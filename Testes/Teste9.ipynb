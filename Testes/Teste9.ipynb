{
 "cells": [
  {
   "cell_type": "markdown",
   "id": "cc2eadc9",
   "metadata": {},
   "source": [
    "![CC-BY-SA](https://mirrors.creativecommons.org/presskit/buttons/88x31/svg/by-sa.svg)\n",
    "\n",
    "\n",
    "This notebook was created by [Bernardo Freitas Paulo da Costa](http://www.im.ufrj.br/bernardofpc),\n",
    "and is licensed under Creative Commons BY-SA."
   ]
  },
  {
   "cell_type": "markdown",
   "id": "04f15fd1",
   "metadata": {},
   "source": [
    "Antes de enviar este Teste, verifique que tudo está funcionando como esperado.\n",
    "Por exemplo, **rode o código inteiro, do zero**.\n",
    "Para isso, vá no menu, escolha _Kernel_, depois _Restart & Run All_.\n",
    "\n",
    "Verifique, também, que você respondeu todas as questões:\n",
    "* as questões de código têm `YOUR CODE HERE` (e você pode apagar o `raise NotImplemented` ao incluir sua resposta)\n",
    "* as questões discursivas têm \"YOUR ANSWER HERE\"."
   ]
  },
  {
   "cell_type": "markdown",
   "id": "fe2c6439",
   "metadata": {},
   "source": [
    "---"
   ]
  },
  {
   "cell_type": "code",
   "execution_count": 1,
   "id": "5eb3b38d",
   "metadata": {
    "deletable": false,
    "editable": false,
    "nbgrader": {
     "cell_type": "code",
     "checksum": "996644c3f8e59eb3b377477f093873ec",
     "grade": false,
     "grade_id": "cell-4b972418922ac8db",
     "locked": true,
     "schema_version": 3,
     "solution": false,
     "task": false
    }
   },
   "outputs": [],
   "source": [
    "import numpy as np\n",
    "import matplotlib.pyplot as plt\n",
    "\n",
    "from numpy.linalg import norm # Vamos usar muito !"
   ]
  },
  {
   "cell_type": "markdown",
   "id": "28729e20",
   "metadata": {},
   "source": [
    "# Mínimos quadrados _vs_ Equações Normais\n",
    "\n",
    "Vimos duas formas de resolver um problema de regressão:\n",
    "- encontrando a solução de mínimos quadrados para $Xp = b$;\n",
    "- resolvendo as equações normais $X^\\top X p = X^\\top b$.\n",
    "\n",
    "Neste teste, veremos como isto pode gerar diferenças no cálculo de $p$."
   ]
  },
  {
   "cell_type": "markdown",
   "id": "096bdb82",
   "metadata": {},
   "source": [
    "# Questão 1: Comparando soluções\n",
    "\n",
    "Sejam dados uma matriz $A$, $m \\times n$, e um vetor $b$.\n",
    "\n",
    "Escreva uma função que retorna as duas soluções do problema de regressão,\n",
    "a primeira usando `np.linalg.solve` e a segunda, `np.linalg.lstsq`."
   ]
  },
  {
   "cell_type": "code",
   "execution_count": 2,
   "id": "37d8a0c9",
   "metadata": {
    "deletable": false,
    "nbgrader": {
     "cell_type": "code",
     "checksum": "5ef88b5efc987ab7687996e5c4c9e4f3",
     "grade": false,
     "grade_id": "cell-619914fa122b3f3e",
     "locked": false,
     "schema_version": 3,
     "solution": true,
     "task": false
    }
   },
   "outputs": [],
   "source": [
    "def duas_sols(A,b):\n",
    "    solve = np.linalg.solve((A.T)@A,(A.T)@b)\n",
    "    lstsq = np.linalg.lstsq(A,b, rcond=None)[0]\n",
    "    return solve, lstsq"
   ]
  },
  {
   "cell_type": "code",
   "execution_count": 3,
   "id": "9368e5b9",
   "metadata": {
    "deletable": false,
    "editable": false,
    "nbgrader": {
     "cell_type": "code",
     "checksum": "40f99f3eebc1934d23bb6c91bc786396",
     "grade": true,
     "grade_id": "cell-dcfc9177dd3592ef",
     "locked": true,
     "points": 1,
     "schema_version": 3,
     "solution": false,
     "task": false
    }
   },
   "outputs": [],
   "source": [
    "A = np.array([[0,1],[1,1],[2,1],[2,2],[3,2],[4,4]])\n",
    "b = [1,2,3,4,5,6]\n",
    "\n",
    "x1, x2 = duas_sols(A,b)\n",
    "assert np.allclose(x1,x2)"
   ]
  },
  {
   "cell_type": "code",
   "execution_count": 4,
   "id": "4d984449",
   "metadata": {
    "deletable": false,
    "editable": false,
    "nbgrader": {
     "cell_type": "code",
     "checksum": "da2f9b11f9b0626522b716e4554ddd80",
     "grade": true,
     "grade_id": "cell-d5af1b60a0434c9a",
     "locked": true,
     "points": 1,
     "schema_version": 3,
     "solution": false,
     "task": false
    }
   },
   "outputs": [],
   "source": [
    "A = np.array([[0,1],[1,1],[2,1],[2,2],[3,2],[4,4]])\n",
    "b = [0,1,0,1,0,1]\n",
    "\n",
    "x1, x2 = duas_sols(A,b)\n",
    "assert np.allclose(x1,x2)"
   ]
  },
  {
   "cell_type": "code",
   "execution_count": 5,
   "id": "96b6456a",
   "metadata": {
    "deletable": false,
    "editable": false,
    "nbgrader": {
     "cell_type": "code",
     "checksum": "ab5c63bed1454ab642cceec45f3d0e0f",
     "grade": true,
     "grade_id": "cell-3c4e79e30f91bbb5",
     "locked": true,
     "points": 1,
     "schema_version": 3,
     "solution": false,
     "task": false
    }
   },
   "outputs": [],
   "source": [
    "A = np.array([[0,1],[1,1],[2,1],[2,2],[3,2],[4,4]])\n",
    "b = [1,1,1,0,0,0]\n",
    "\n",
    "x1, x2 = duas_sols(A,b)\n",
    "\n",
    "assert norm(x1-x2) < 1e-14"
   ]
  },
  {
   "cell_type": "markdown",
   "id": "fa264702",
   "metadata": {},
   "source": [
    "Ao resolver um problema de regressão, a medida \"oficial\" é o **erro de regressão**.\n",
    "Assim, poderia muito bem haver duas soluções $x_1$ e $x_2$, diferentes,\n",
    "mas tais que $\\|Ax_1 - b\\|$ e $\\|Ax_2 - b\\|$ fossem iguais.\n",
    "\n",
    "Complete a sua função para retornar, também, o erro da regressão, para cada uma das soluções.\n",
    "Retorne duas tuplas, uma com as 2 soluções, a segunda com os 2 erros."
   ]
  },
  {
   "cell_type": "code",
   "execution_count": 6,
   "id": "9ed2a0c6",
   "metadata": {
    "deletable": false,
    "nbgrader": {
     "cell_type": "code",
     "checksum": "762d5af230a9ea138712a325a2feab24",
     "grade": false,
     "grade_id": "cell-6e8af0f9e84cc6e1",
     "locked": false,
     "schema_version": 3,
     "solution": true,
     "task": false
    }
   },
   "outputs": [],
   "source": [
    "def duas_sols_erros(A,b):\n",
    "    solve = np.linalg.solve((A.T)@A,(A.T)@b)\n",
    "    erro_solve = norm(A@solve - b)\n",
    "    lstsq = np.linalg.lstsq(A,b, rcond=None)[0]\n",
    "    erro_lstsq = norm(A@lstsq - b)\n",
    "    \n",
    "    return((solve,lstsq),(erro_solve,erro_lstsq))"
   ]
  },
  {
   "cell_type": "code",
   "execution_count": 7,
   "id": "28c02eb6",
   "metadata": {
    "deletable": false,
    "editable": false,
    "nbgrader": {
     "cell_type": "code",
     "checksum": "b530d93c0cf6346444056939f1ef967a",
     "grade": true,
     "grade_id": "cell-9f4394264df2fed8",
     "locked": true,
     "points": 1,
     "schema_version": 3,
     "solution": false,
     "task": false
    }
   },
   "outputs": [],
   "source": [
    "A = np.array([[0,1],[1,1],[2,1],[2,2],[3,2],[4,4]])\n",
    "b = [6,5,4,3,2,1]\n",
    "\n",
    "(x1, x2), (e1, e2) = duas_sols_erros(A,b)\n",
    "assert np.allclose(x1,x2)\n",
    "assert 7 < e1 < 8\n",
    "assert 7 < e2 < 8"
   ]
  },
  {
   "cell_type": "markdown",
   "id": "d0148400",
   "metadata": {},
   "source": [
    "Calcule os erros de regressão para cada um dos casos anteriores,\n",
    "e também a diferença entre eles."
   ]
  },
  {
   "cell_type": "code",
   "execution_count": 8,
   "id": "be86a4f7",
   "metadata": {
    "deletable": false,
    "nbgrader": {
     "cell_type": "code",
     "checksum": "83c4531537394d5081af28c1e5484156",
     "grade": true,
     "grade_id": "cell-3721ad42f1c32cef",
     "locked": false,
     "points": 2,
     "schema_version": 3,
     "solution": true,
     "task": false
    }
   },
   "outputs": [
    {
     "name": "stdout",
     "output_type": "stream",
     "text": [
      "(1.2273929715024061, 1.2273929715024061) 0.0\n",
      "(1.044465935734187, 1.044465935734187) 0.0\n",
      "(1.627682600923979, 1.6276826009239789) 2.220446049250313e-16\n",
      "(7.631105177742358, 7.631105177742358) 0.0\n"
     ]
    }
   ],
   "source": [
    "A = np.array([[0,1],[1,1],[2,1],[2,2],[3,2],[4,4]])\n",
    "b = [1,2,3,4,5,6]\n",
    "\n",
    "erros1 = duas_sols_erros(A,b)[1]\n",
    "diferenca1 = erros1[0] - erros1[1]\n",
    "A = np.array([[0,1],[1,1],[2,1],[2,2],[3,2],[4,4]])\n",
    "b = [0,1,0,1,0,1]\n",
    "\n",
    "erros2 = duas_sols_erros(A,b)[1]\n",
    "diferenca2 = erros2[0] - erros2[1]\n",
    "\n",
    "A = np.array([[0,1],[1,1],[2,1],[2,2],[3,2],[4,4]])\n",
    "b = [1,1,1,0,0,0]\n",
    "\n",
    "erros3 = duas_sols_erros(A,b)[1]\n",
    "diferenca3 = erros3[0] - erros3[1]\n",
    "\n",
    "A = np.array([[0,1],[1,1],[2,1],[2,2],[3,2],[4,4]])\n",
    "b = [6,5,4,3,2,1]\n",
    "\n",
    "erros4 = duas_sols_erros(A,b)[1]\n",
    "diferenca4 = erros4[0] - erros4[1]\n",
    "\n",
    "print(erros1,diferenca1)\n",
    "print(erros2,diferenca2)\n",
    "print(erros3,diferenca3)\n",
    "print(erros4,diferenca4)"
   ]
  },
  {
   "cell_type": "markdown",
   "id": "12ec7f82",
   "metadata": {},
   "source": [
    "O que você observa?"
   ]
  },
  {
   "cell_type": "markdown",
   "id": "aa3abbf9",
   "metadata": {
    "deletable": false,
    "nbgrader": {
     "cell_type": "markdown",
     "checksum": "6ebae613dff616263f131c5fd1953a75",
     "grade": true,
     "grade_id": "cell-2ab4ef9a311aee18",
     "locked": false,
     "points": 1,
     "schema_version": 3,
     "solution": true,
     "task": false
    }
   },
   "source": [
    "Os erros são basicamente iguais, sendo diferente apenas o caso 3, onde eles não são iguais para o computador, mas podemos considerar eles iguais visto que a diferença está na casa do -16."
   ]
  },
  {
   "cell_type": "markdown",
   "id": "ed75952e",
   "metadata": {},
   "source": [
    "# Questão 2: Analisando muitos casos\n",
    "\n",
    "Para entender o comportamento médio, vamos gerar vetores $b$ aleatórios.\n",
    "\n",
    "Compare, com um histograma, os erros de regressão, para 1000 vetores $b$ aleatórios, e a matriz $A$ acima."
   ]
  },
  {
   "cell_type": "code",
   "execution_count": 9,
   "id": "bf9b3ec3",
   "metadata": {
    "deletable": false,
    "nbgrader": {
     "cell_type": "code",
     "checksum": "583df86bc3c4b24eac3d9bfcc1337cff",
     "grade": true,
     "grade_id": "cell-7e253d8da5dea1b8",
     "locked": false,
     "points": 1,
     "schema_version": 3,
     "solution": true,
     "task": false
    },
    "scrolled": true
   },
   "outputs": [
    {
     "data": {
      "image/png": "[encoded data removed]",
      "text/plain": [
       "<Figure size 432x288 with 1 Axes>"
      ]
     },
     "metadata": {
      "needs_background": "light"
     },
     "output_type": "display_data"
    }
   ],
   "source": [
    "np.random.seed(1)\n",
    "erros = []\n",
    "for _ in range(1000):\n",
    "    (x1, x2), (e1, e2) = duas_sols_erros(A,np.random.rand(6))\n",
    "    erros.append(e2 - e1)\n",
    "plt.hist(erros,7)\n",
    "\n",
    "ax = plt.gca()"
   ]
  },
  {
   "cell_type": "code",
   "execution_count": 10,
   "id": "24a57069",
   "metadata": {
    "deletable": false,
    "editable": false,
    "nbgrader": {
     "cell_type": "code",
     "checksum": "b0d21da61ef6467ca170186566671fb7",
     "grade": true,
     "grade_id": "cell-309d06c8e8a6baa5",
     "locked": true,
     "points": 1,
     "schema_version": 3,
     "solution": false,
     "task": false
    }
   },
   "outputs": [],
   "source": [
    "minx, maxx = ax.get_xlim()\n",
    "\n",
    "assert -2e-15 < minx < maxx < 2e-15"
   ]
  },
  {
   "cell_type": "markdown",
   "id": "beee6e67",
   "metadata": {},
   "source": [
    "Algum dos métodos dá consistentemente o menor erro?"
   ]
  },
  {
   "cell_type": "markdown",
   "id": "0e1d9b80",
   "metadata": {
    "deletable": false,
    "nbgrader": {
     "cell_type": "markdown",
     "checksum": "bcdfd79003457195e8ee722b18a432ba",
     "grade": true,
     "grade_id": "cell-8b01627440859975",
     "locked": false,
     "points": 1,
     "schema_version": 3,
     "solution": true,
     "task": false
    }
   },
   "source": [
    "Em grande parte dos valores, a diferença entre eles é igual a 0, como visto no histograma. Se um dos métodos desse o erro consistentemente menor, um dos lados do histograma estariacom mais dados que o outro."
   ]
  },
  {
   "cell_type": "markdown",
   "id": "b9f2679e",
   "metadata": {},
   "source": [
    "Agora, vamos usar matrizes (bem) maiores.\n",
    "\n",
    "Escolha uma matriz $A$, $30 \\times 4$ com entradas uniformemente escolhidas em $[0,1]$,\n",
    "e repita o que fizemos acima para 1000 valores aleatórios de $b$."
   ]
  },
  {
   "cell_type": "code",
   "execution_count": 11,
   "id": "d81330e7",
   "metadata": {
    "deletable": false,
    "nbgrader": {
     "cell_type": "code",
     "checksum": "ea8d94ea73f813b0342197ac18a8635d",
     "grade": false,
     "grade_id": "cell-bf1739119a51ff50",
     "locked": false,
     "schema_version": 3,
     "solution": true,
     "task": false
    }
   },
   "outputs": [
    {
     "data": {
      "image/png": "[encoded data removed]",
      "text/plain": [
       "<Figure size 432x288 with 1 Axes>"
      ]
     },
     "metadata": {
      "needs_background": "light"
     },
     "output_type": "display_data"
    }
   ],
   "source": [
    "np.random.seed(2)\n",
    "A = np.random.rand(30,4)\n",
    "erros = []\n",
    "for _ in range(1000):\n",
    "    (x1, x2), (e1, e2) = duas_sols_erros(A,np.random.rand(30))\n",
    "    erros.append(e2 - e1)\n",
    "plt.hist(erros,7)\n",
    "\n",
    "ax = plt.gca()"
   ]
  },
  {
   "cell_type": "code",
   "execution_count": 12,
   "id": "d6148efd",
   "metadata": {
    "deletable": false,
    "editable": false,
    "nbgrader": {
     "cell_type": "code",
     "checksum": "241608c97a018dd73d430734331e5945",
     "grade": true,
     "grade_id": "cell-c0756b2f00bb4a91",
     "locked": true,
     "points": 1,
     "schema_version": 3,
     "solution": false,
     "task": false
    }
   },
   "outputs": [],
   "source": [
    "minx, maxx = ax.get_xlim()\n",
    "\n",
    "assert -4e-15 < minx < maxx < 4e-15"
   ]
  },
  {
   "cell_type": "markdown",
   "id": "59ea4ba7",
   "metadata": {},
   "source": [
    "O comportamento dos erros mudou?"
   ]
  },
  {
   "cell_type": "markdown",
   "id": "2ba16459",
   "metadata": {
    "deletable": false,
    "nbgrader": {
     "cell_type": "markdown",
     "checksum": "742914cacdd94c946147eef4df66bd8b",
     "grade": true,
     "grade_id": "cell-d4eb04981d3a111f",
     "locked": false,
     "points": 1,
     "schema_version": 3,
     "solution": true,
     "task": false
    }
   },
   "source": [
    "É possivel perceber que agora os erros começaram a \"pesar\" mais pros lados, tendo menos valores com diferença = 0, e mais valores com um dos erros menor que o outro."
   ]
  },
  {
   "cell_type": "markdown",
   "id": "6f24a4e3",
   "metadata": {},
   "source": [
    "E agora, faça para matrizes $300 \\times 10$."
   ]
  },
  {
   "cell_type": "code",
   "execution_count": 13,
   "id": "5b797318",
   "metadata": {
    "deletable": false,
    "nbgrader": {
     "cell_type": "code",
     "checksum": "d75bb4788eb1c1ea28a02d90df98e48e",
     "grade": false,
     "grade_id": "cell-7131caab2146c523",
     "locked": false,
     "schema_version": 3,
     "solution": true,
     "task": false
    }
   },
   "outputs": [
    {
     "data": {
      "image/png": "[encoded data removed]",
      "text/plain": [
       "<Figure size 432x288 with 1 Axes>"
      ]
     },
     "metadata": {
      "needs_background": "light"
     },
     "output_type": "display_data"
    }
   ],
   "source": [
    "np.random.seed(1)\n",
    "A = np.random.rand(300,10)\n",
    "erros = []\n",
    "for _ in range(1000):\n",
    "    (x1, x2), (e1, e2) = duas_sols_erros(A,np.random.rand(300))\n",
    "    erros.append(e2 - e1)\n",
    "plt.hist(erros,7)\n",
    "\n",
    "ax = plt.gca()"
   ]
  },
  {
   "cell_type": "code",
   "execution_count": 14,
   "id": "fe761c89",
   "metadata": {
    "deletable": false,
    "editable": false,
    "nbgrader": {
     "cell_type": "code",
     "checksum": "d190eed17be8656581a27f944bcbff3f",
     "grade": true,
     "grade_id": "cell-5d63b29d89032a68",
     "locked": true,
     "points": 1,
     "schema_version": 3,
     "solution": false,
     "task": false
    }
   },
   "outputs": [],
   "source": [
    "minx, maxx = ax.get_xlim()\n",
    "\n",
    "assert -10e-15 < minx < maxx < 10e-15"
   ]
  },
  {
   "cell_type": "markdown",
   "id": "6cd84491",
   "metadata": {},
   "source": [
    "Esse gráfico confirma a tendência quando a matriz fica maior?"
   ]
  },
  {
   "cell_type": "markdown",
   "id": "178ecdd6",
   "metadata": {
    "deletable": false,
    "nbgrader": {
     "cell_type": "markdown",
     "checksum": "f1f87a526d4a6977d2cc7da835f2718e",
     "grade": true,
     "grade_id": "cell-1749e4479ed402c4",
     "locked": false,
     "points": 2,
     "schema_version": 3,
     "solution": true,
     "task": false
    }
   },
   "source": [
    "Na verdade, aumentamos a matriz mas a ideia original permaneceu, o número de 0 permaneceu o maior, simbolizando que em sua maioria não existe um erro menor que outro. Apesar disso é possível perceber que o valor do erro aumenta no último caso, onde a escala do histograma é alterada.\n"
   ]
  },
  {
   "cell_type": "markdown",
   "id": "757e85d1",
   "metadata": {},
   "source": [
    "# Questão 3: Matrizes de Hilbert\n",
    "\n",
    "A matriz de Hilbert é uma matriz famosa, cujas entradas $H_{i,j}$ são $\\frac{1}{i+j-1}$.\n",
    "\n",
    "Por exemplo, a matriz $3\\times 2$ é\n",
    "$$\\begin{bmatrix}\n",
    "  1 & 1/2 \\\\\n",
    "1/2 & 1/3 \\\\\n",
    "1/3 & 1/4\n",
    "\\end{bmatrix}$$\n",
    "\n",
    "Escreva a função `hilb(n,m)` que retorna a matriz de Hilbert $n \\times m$:"
   ]
  },
  {
   "cell_type": "code",
   "execution_count": 15,
   "id": "4d993820",
   "metadata": {
    "deletable": false,
    "nbgrader": {
     "cell_type": "code",
     "checksum": "e2e5293b68c53aff978502c5c656b61d",
     "grade": false,
     "grade_id": "cell-1beeec7ed1001295",
     "locked": false,
     "schema_version": 3,
     "solution": true,
     "task": false
    }
   },
   "outputs": [],
   "source": [
    "def hilb(n,m):\n",
    "    \n",
    "    \n",
    "    if m < 1 or n < 0:\n",
    "        raise ValueError(\"Matrix size must be one or greater\")\n",
    "    elif m == 1 and (n == 0 or n == 1):\n",
    "        return np.array([[1]])\n",
    "    elif n == 0:\n",
    "        n = m\n",
    "\n",
    "    v = np.arange(1, m + 1) + np.arange(0, n)[:, np.newaxis]\n",
    "    return 1. / v"
   ]
  },
  {
   "cell_type": "code",
   "execution_count": 16,
   "id": "a5741ce5",
   "metadata": {
    "deletable": false,
    "editable": false,
    "nbgrader": {
     "cell_type": "code",
     "checksum": "7a1c19617d24aca275c81c76d5406080",
     "grade": true,
     "grade_id": "cell-7b099dca3f2338bf",
     "locked": true,
     "points": 2,
     "schema_version": 3,
     "solution": false,
     "task": false
    }
   },
   "outputs": [],
   "source": [
    "assert np.all(hilb(3,2) == [[1, 1/2], [1/2, 1/3], [1/3, 1/4]])"
   ]
  },
  {
   "cell_type": "code",
   "execution_count": 17,
   "id": "b3714889",
   "metadata": {
    "deletable": false,
    "editable": false,
    "nbgrader": {
     "cell_type": "code",
     "checksum": "66dac445bc5aa8f795f2af10357f8b45",
     "grade": true,
     "grade_id": "cell-089b84839c179610",
     "locked": true,
     "points": 1,
     "schema_version": 3,
     "solution": false,
     "task": false
    }
   },
   "outputs": [],
   "source": [
    "H = hilb(40,20)\n",
    "assert H.shape == (40,20)"
   ]
  },
  {
   "cell_type": "code",
   "execution_count": 18,
   "id": "827b2739",
   "metadata": {
    "deletable": false,
    "editable": false,
    "nbgrader": {
     "cell_type": "code",
     "checksum": "b6a277544a4404356943b8c90bf6ea1b",
     "grade": true,
     "grade_id": "cell-2862c12ba8bfcd13",
     "locked": true,
     "points": 1,
     "schema_version": 3,
     "solution": false,
     "task": false
    }
   },
   "outputs": [],
   "source": [
    "H = hilb(30,4)\n",
    "assert H[10,3] == 1/(10+3+1)"
   ]
  },
  {
   "cell_type": "markdown",
   "id": "feb22631",
   "metadata": {},
   "source": [
    "Explique porque o teste acima é feito com $\\frac{1}{10+3+1}$ em vez de $\\frac{1}{10+3-1}$."
   ]
  },
  {
   "cell_type": "markdown",
   "id": "ef009b3d",
   "metadata": {
    "deletable": false,
    "nbgrader": {
     "cell_type": "markdown",
     "checksum": "77806d4164d6b8d887f4381febb9ce4b",
     "grade": true,
     "grade_id": "cell-a780aa0e9f2f4a3d",
     "locked": false,
     "points": 2,
     "schema_version": 3,
     "solution": true,
     "task": false
    }
   },
   "source": [
    "Pois precisamos fazer uma tradução entre a matriz de Hilbert e a matriz do numpy. A matriz de Hilbert começa com indice 1, já a numpy com indice 0. Então quando dizemos que queremos o elemento do indice [10,3] no numpy, estamos nos referindo ao elemento de indice (11,4) na matriz de hilbert, e para calcular isso fazemos, 1/(11 + 4 - 1) , que pode ser simplificado como:\n",
    "- 1/(11 + 4 - 1)\n",
    "- 1/(10 + 1 + 3 + 1 - 1)\n",
    "- 1/(10 + 3 + 1)"
   ]
  },
  {
   "cell_type": "markdown",
   "id": "3cebeb90",
   "metadata": {},
   "source": [
    "# Questão 4: Regressão com a matriz de Hilbert\n",
    "\n",
    "Considere a matriz de Hilbert $30 \\times 4$, e calcule a regressão para um vetor $b$ aleatório.\n",
    "Calcule\n",
    "- a diferença entre as soluções; e\n",
    "- a diferença entre os erros de regressão."
   ]
  },
  {
   "cell_type": "code",
   "execution_count": 19,
   "id": "4d48070e",
   "metadata": {
    "deletable": false,
    "nbgrader": {
     "cell_type": "code",
     "checksum": "d03ebae4525b0cfc363ed58f5f6db6ee",
     "grade": true,
     "grade_id": "cell-8fda30c26c1bde7a",
     "locked": false,
     "points": 2,
     "schema_version": 3,
     "solution": true,
     "task": false
    }
   },
   "outputs": [
    {
     "name": "stdout",
     "output_type": "stream",
     "text": [
      "Diferença entre soluções:\n",
      "[ 1.92753546e-09 -1.67587757e-08  3.40025963e-08 -1.95072971e-08]\n",
      "\n",
      "Diferença entre os erros de regressão:\n",
      "2.886579864025407e-15\n"
     ]
    }
   ],
   "source": [
    "H = hilb(30,4)\n",
    "\n",
    "(x1, x2), (e1, e2) = duas_sols_erros(H,np.random.rand(30))\n",
    "\n",
    "dif_solucoes = x1 - x2\n",
    "dif_erros = e1 - e2\n",
    "\n",
    "print(\"Diferença entre soluções:\")\n",
    "print(dif_solucoes)\n",
    "print(\"\")\n",
    "print(\"Diferença entre os erros de regressão:\")\n",
    "print(dif_erros)"
   ]
  },
  {
   "cell_type": "markdown",
   "id": "7c315825",
   "metadata": {},
   "source": [
    "Calcule, também, o erro relativo entre as soluções, de duas formas:\n",
    "- coordenada a coordenada, $\\frac{|x1_i - x2_i|}{|x1_i| + |x2_i|}$,\n",
    "- global, $\\frac{||x1 - x2||}{||x1|| + ||x2||}$.\n",
    "\n",
    "(Obs: como não há um método que seja \"a priori\" mais exato do que o outro, normalizamos pela soma dos valores absolutos)"
   ]
  },
  {
   "cell_type": "code",
   "execution_count": 20,
   "id": "d9926892",
   "metadata": {
    "deletable": false,
    "nbgrader": {
     "cell_type": "code",
     "checksum": "279a63b24fd7f028342f12d5a32c82e5",
     "grade": true,
     "grade_id": "cell-d8afa9e0fa4a71e5",
     "locked": false,
     "points": 1,
     "schema_version": 3,
     "solution": true,
     "task": false
    }
   },
   "outputs": [
    {
     "name": "stdout",
     "output_type": "stream",
     "text": [
      "Erro relativo de coordenada a coordenada:\n",
      "[4.23280403e-11 3.65544065e-11 3.22274954e-11 2.89982593e-11]\n",
      " \n",
      "Erro relativo global:\n",
      "3.2005478963643857e-11\n"
     ]
    }
   ],
   "source": [
    "coor_a_coord = (abs(x1-x2))/(abs(x1) + abs(x2))\n",
    "print(\"Erro relativo de coordenada a coordenada:\")\n",
    "print(coor_a_coord)\n",
    "\n",
    "print(\" \")\n",
    "\n",
    "glob = (norm(x1-x2))/(norm(x1) + norm(x2))\n",
    "print(\"Erro relativo global:\")\n",
    "print(glob)"
   ]
  },
  {
   "cell_type": "markdown",
   "id": "a64bca3f",
   "metadata": {},
   "source": [
    "Agora, aumente para $300 \\times 10$, e calcule\n",
    "- a diferença entre as soluções,\n",
    "- os erros relativos entre as soluções,\n",
    "- a diferença entre os erros de regressão."
   ]
  },
  {
   "cell_type": "code",
   "execution_count": 21,
   "id": "8c129ea8",
   "metadata": {
    "deletable": false,
    "nbgrader": {
     "cell_type": "code",
     "checksum": "551e05f9bc05acee03fb246c34f4932c",
     "grade": true,
     "grade_id": "cell-1e96c71c6eb6a786",
     "locked": false,
     "points": 1,
     "schema_version": 3,
     "solution": true,
     "task": false
    },
    "scrolled": false
   },
   "outputs": [
    {
     "name": "stdout",
     "output_type": "stream",
     "text": [
      "Diferença entre soluções:\n",
      "[ 2.99960896e+04 -2.08789881e+06  3.60583547e+07 -2.69785739e+08\n",
      "  1.07602687e+09 -2.51051911e+09  3.54302152e+09 -2.98036996e+09\n",
      "  1.37638268e+09 -2.68756809e+08]\n",
      "\n",
      "Erro relativo de coordenada a coordenada:\n",
      "[0.48510655 0.61740745 0.72714663 0.81850003 0.8943758  0.95706499\n",
      " 1.         1.         1.         1.        ]\n",
      " \n",
      "Erro relativo global:\n",
      "0.9810478112240045\n",
      " \n",
      "Diferença entre os erros de regressão:\n",
      "0.3690314886726336\n"
     ]
    }
   ],
   "source": [
    "np.random.seed(1)\n",
    "\n",
    "H = hilb(300,10)\n",
    "\n",
    "(x1, x2), (e1, e2) = duas_sols_erros(H,np.random.rand(300))\n",
    "\n",
    "dif_solucoes = x1 - x2\n",
    "dif_erros = e1 - e2\n",
    "\n",
    "print(\"Diferença entre soluções:\")\n",
    "print(dif_solucoes)\n",
    "print(\"\")\n",
    "coor_a_coord = (abs(x1-x2))/(abs(x1) + abs(x2))\n",
    "print(\"Erro relativo de coordenada a coordenada:\")\n",
    "print(coor_a_coord)\n",
    "\n",
    "\n",
    "print(\" \")\n",
    "\n",
    "glob = (norm(x1-x2))/(norm(x1) + norm(x2))\n",
    "print(\"Erro relativo global:\")\n",
    "print(glob)\n",
    "print(\" \")\n",
    "print(\"Diferença entre os erros de regressão:\")\n",
    "print(dif_erros)"
   ]
  },
  {
   "cell_type": "markdown",
   "id": "348486cb",
   "metadata": {},
   "source": [
    "O que aconteceu?"
   ]
  },
  {
   "cell_type": "markdown",
   "id": "cabbfc60",
   "metadata": {
    "deletable": false,
    "nbgrader": {
     "cell_type": "markdown",
     "checksum": "3e4249193b874e335f216c1fdd46e039",
     "grade": true,
     "grade_id": "cell-ed5e234080d495c8",
     "locked": false,
     "points": 2,
     "schema_version": 3,
     "solution": true,
     "task": false
    }
   },
   "source": [
    "Podemos perceber que o erro relativo e os erros de regressão aumentaram bastante, e conforme pegamos um i e j maior para o valor Aij da matriz, maior o erro se apresenta. \n",
    "\n",
    "Sendo que o erro relativo se mostra no final com uma magnitude igual a soma das soluções, por isso o resultado 1.\n",
    "\n",
    "E o erro relativo global, e os erros de regressão, também demonstram a mesma caracterísica trazendo um erro maior em comparação à matriz de Hilbert com menos linhas. \n",
    "\n",
    "Podemos concluir então que o erro tende a aumentar, conforme comparamos soluções menores."
   ]
  },
  {
   "cell_type": "markdown",
   "id": "81f347bf",
   "metadata": {},
   "source": [
    "# Questão 5: Outro sistema\n",
    "\n",
    "Agora, considere a matriz com entradas inteiras em sequência:\n",
    "$$ A = \\begin{bmatrix}\n",
    "1 & 2 & 3 \\\\\n",
    "4 & 5 & 6 \\\\\n",
    "7 & 8 & 9 \\\\\n",
    "10 & 11 & 12 \\\\\n",
    "13 & 14 & 15 \\\\\n",
    "16 & 17 & 18\n",
    "\\end{bmatrix} $$\n",
    "\n",
    "Resolva o problema de regressão para o vetor $b = (1,1,1,1,1,1)$, pelos dois métodos, e calcule os erros."
   ]
  },
  {
   "cell_type": "code",
   "execution_count": 22,
   "id": "d62a1d1f",
   "metadata": {
    "deletable": false,
    "nbgrader": {
     "cell_type": "code",
     "checksum": "4eb49aa4bb34e0cf397253e651bfb426",
     "grade": true,
     "grade_id": "cell-92972912d0d251fd",
     "locked": false,
     "points": 1,
     "schema_version": 3,
     "solution": true,
     "task": false
    },
    "scrolled": false
   },
   "outputs": [
    {
     "ename": "LinAlgError",
     "evalue": "Singular matrix",
     "output_type": "error",
     "traceback": [
      "\u001b[1;31m---------------------------------------------------------------------------\u001b[0m",
      "\u001b[1;31mLinAlgError\u001b[0m                               Traceback (most recent call last)",
      "\u001b[1;32m<ipython-input-22-779535511a18>\u001b[0m in \u001b[0;36m<module>\u001b[1;34m\u001b[0m\n\u001b[0;32m      1\u001b[0m \u001b[0mA\u001b[0m \u001b[1;33m=\u001b[0m \u001b[0mnp\u001b[0m\u001b[1;33m.\u001b[0m\u001b[0marange\u001b[0m\u001b[1;33m(\u001b[0m\u001b[1;36m1\u001b[0m\u001b[1;33m,\u001b[0m\u001b[1;36m19\u001b[0m\u001b[1;33m)\u001b[0m\u001b[1;33m.\u001b[0m\u001b[0mreshape\u001b[0m\u001b[1;33m(\u001b[0m\u001b[1;36m6\u001b[0m\u001b[1;33m,\u001b[0m\u001b[1;36m3\u001b[0m\u001b[1;33m)\u001b[0m\u001b[1;33m\u001b[0m\u001b[1;33m\u001b[0m\u001b[0m\n\u001b[0;32m      2\u001b[0m \u001b[1;33m\u001b[0m\u001b[0m\n\u001b[1;32m----> 3\u001b[1;33m \u001b[1;33m(\u001b[0m\u001b[0mx1\u001b[0m\u001b[1;33m,\u001b[0m \u001b[0mx2\u001b[0m\u001b[1;33m)\u001b[0m\u001b[1;33m,\u001b[0m \u001b[1;33m(\u001b[0m\u001b[0me1\u001b[0m\u001b[1;33m,\u001b[0m \u001b[0me2\u001b[0m\u001b[1;33m)\u001b[0m \u001b[1;33m=\u001b[0m \u001b[0mduas_sols_erros\u001b[0m\u001b[1;33m(\u001b[0m\u001b[0mA\u001b[0m\u001b[1;33m,\u001b[0m\u001b[0mnp\u001b[0m\u001b[1;33m.\u001b[0m\u001b[0mones\u001b[0m\u001b[1;33m(\u001b[0m\u001b[1;36m6\u001b[0m\u001b[1;33m)\u001b[0m\u001b[1;33m)\u001b[0m\u001b[1;33m\u001b[0m\u001b[1;33m\u001b[0m\u001b[0m\n\u001b[0m",
      "\u001b[1;32m<ipython-input-6-b54fa7571bed>\u001b[0m in \u001b[0;36mduas_sols_erros\u001b[1;34m(A, b)\u001b[0m\n\u001b[0;32m      1\u001b[0m \u001b[1;32mdef\u001b[0m \u001b[0mduas_sols_erros\u001b[0m\u001b[1;33m(\u001b[0m\u001b[0mA\u001b[0m\u001b[1;33m,\u001b[0m\u001b[0mb\u001b[0m\u001b[1;33m)\u001b[0m\u001b[1;33m:\u001b[0m\u001b[1;33m\u001b[0m\u001b[1;33m\u001b[0m\u001b[0m\n\u001b[1;32m----> 2\u001b[1;33m     \u001b[0msolve\u001b[0m \u001b[1;33m=\u001b[0m \u001b[0mnp\u001b[0m\u001b[1;33m.\u001b[0m\u001b[0mlinalg\u001b[0m\u001b[1;33m.\u001b[0m\u001b[0msolve\u001b[0m\u001b[1;33m(\u001b[0m\u001b[1;33m(\u001b[0m\u001b[0mA\u001b[0m\u001b[1;33m.\u001b[0m\u001b[0mT\u001b[0m\u001b[1;33m)\u001b[0m\u001b[1;33m@\u001b[0m\u001b[0mA\u001b[0m\u001b[1;33m,\u001b[0m\u001b[1;33m(\u001b[0m\u001b[0mA\u001b[0m\u001b[1;33m.\u001b[0m\u001b[0mT\u001b[0m\u001b[1;33m)\u001b[0m\u001b[1;33m@\u001b[0m\u001b[0mb\u001b[0m\u001b[1;33m)\u001b[0m\u001b[1;33m\u001b[0m\u001b[1;33m\u001b[0m\u001b[0m\n\u001b[0m\u001b[0;32m      3\u001b[0m     \u001b[0merro_solve\u001b[0m \u001b[1;33m=\u001b[0m \u001b[0mnorm\u001b[0m\u001b[1;33m(\u001b[0m\u001b[0mA\u001b[0m\u001b[1;33m@\u001b[0m\u001b[0msolve\u001b[0m \u001b[1;33m-\u001b[0m \u001b[0mb\u001b[0m\u001b[1;33m)\u001b[0m\u001b[1;33m\u001b[0m\u001b[1;33m\u001b[0m\u001b[0m\n\u001b[0;32m      4\u001b[0m     \u001b[0mlstsq\u001b[0m \u001b[1;33m=\u001b[0m \u001b[0mnp\u001b[0m\u001b[1;33m.\u001b[0m\u001b[0mlinalg\u001b[0m\u001b[1;33m.\u001b[0m\u001b[0mlstsq\u001b[0m\u001b[1;33m(\u001b[0m\u001b[0mA\u001b[0m\u001b[1;33m,\u001b[0m\u001b[0mb\u001b[0m\u001b[1;33m,\u001b[0m \u001b[0mrcond\u001b[0m\u001b[1;33m=\u001b[0m\u001b[1;32mNone\u001b[0m\u001b[1;33m)\u001b[0m\u001b[1;33m[\u001b[0m\u001b[1;36m0\u001b[0m\u001b[1;33m]\u001b[0m\u001b[1;33m\u001b[0m\u001b[1;33m\u001b[0m\u001b[0m\n\u001b[0;32m      5\u001b[0m     \u001b[0merro_lstsq\u001b[0m \u001b[1;33m=\u001b[0m \u001b[0mnorm\u001b[0m\u001b[1;33m(\u001b[0m\u001b[0mA\u001b[0m\u001b[1;33m@\u001b[0m\u001b[0mlstsq\u001b[0m \u001b[1;33m-\u001b[0m \u001b[0mb\u001b[0m\u001b[1;33m)\u001b[0m\u001b[1;33m\u001b[0m\u001b[1;33m\u001b[0m\u001b[0m\n",
      "\u001b[1;32m<__array_function__ internals>\u001b[0m in \u001b[0;36msolve\u001b[1;34m(*args, **kwargs)\u001b[0m\n",
      "\u001b[1;32m~\\anaconda3\\lib\\site-packages\\numpy\\linalg\\linalg.py\u001b[0m in \u001b[0;36msolve\u001b[1;34m(a, b)\u001b[0m\n\u001b[0;32m    391\u001b[0m     \u001b[0msignature\u001b[0m \u001b[1;33m=\u001b[0m \u001b[1;34m'DD->D'\u001b[0m \u001b[1;32mif\u001b[0m \u001b[0misComplexType\u001b[0m\u001b[1;33m(\u001b[0m\u001b[0mt\u001b[0m\u001b[1;33m)\u001b[0m \u001b[1;32melse\u001b[0m \u001b[1;34m'dd->d'\u001b[0m\u001b[1;33m\u001b[0m\u001b[1;33m\u001b[0m\u001b[0m\n\u001b[0;32m    392\u001b[0m     \u001b[0mextobj\u001b[0m \u001b[1;33m=\u001b[0m \u001b[0mget_linalg_error_extobj\u001b[0m\u001b[1;33m(\u001b[0m\u001b[0m_raise_linalgerror_singular\u001b[0m\u001b[1;33m)\u001b[0m\u001b[1;33m\u001b[0m\u001b[1;33m\u001b[0m\u001b[0m\n\u001b[1;32m--> 393\u001b[1;33m     \u001b[0mr\u001b[0m \u001b[1;33m=\u001b[0m \u001b[0mgufunc\u001b[0m\u001b[1;33m(\u001b[0m\u001b[0ma\u001b[0m\u001b[1;33m,\u001b[0m \u001b[0mb\u001b[0m\u001b[1;33m,\u001b[0m \u001b[0msignature\u001b[0m\u001b[1;33m=\u001b[0m\u001b[0msignature\u001b[0m\u001b[1;33m,\u001b[0m \u001b[0mextobj\u001b[0m\u001b[1;33m=\u001b[0m\u001b[0mextobj\u001b[0m\u001b[1;33m)\u001b[0m\u001b[1;33m\u001b[0m\u001b[1;33m\u001b[0m\u001b[0m\n\u001b[0m\u001b[0;32m    394\u001b[0m \u001b[1;33m\u001b[0m\u001b[0m\n\u001b[0;32m    395\u001b[0m     \u001b[1;32mreturn\u001b[0m \u001b[0mwrap\u001b[0m\u001b[1;33m(\u001b[0m\u001b[0mr\u001b[0m\u001b[1;33m.\u001b[0m\u001b[0mastype\u001b[0m\u001b[1;33m(\u001b[0m\u001b[0mresult_t\u001b[0m\u001b[1;33m,\u001b[0m \u001b[0mcopy\u001b[0m\u001b[1;33m=\u001b[0m\u001b[1;32mFalse\u001b[0m\u001b[1;33m)\u001b[0m\u001b[1;33m)\u001b[0m\u001b[1;33m\u001b[0m\u001b[1;33m\u001b[0m\u001b[0m\n",
      "\u001b[1;32m~\\anaconda3\\lib\\site-packages\\numpy\\linalg\\linalg.py\u001b[0m in \u001b[0;36m_raise_linalgerror_singular\u001b[1;34m(err, flag)\u001b[0m\n\u001b[0;32m     86\u001b[0m \u001b[1;33m\u001b[0m\u001b[0m\n\u001b[0;32m     87\u001b[0m \u001b[1;32mdef\u001b[0m \u001b[0m_raise_linalgerror_singular\u001b[0m\u001b[1;33m(\u001b[0m\u001b[0merr\u001b[0m\u001b[1;33m,\u001b[0m \u001b[0mflag\u001b[0m\u001b[1;33m)\u001b[0m\u001b[1;33m:\u001b[0m\u001b[1;33m\u001b[0m\u001b[1;33m\u001b[0m\u001b[0m\n\u001b[1;32m---> 88\u001b[1;33m     \u001b[1;32mraise\u001b[0m \u001b[0mLinAlgError\u001b[0m\u001b[1;33m(\u001b[0m\u001b[1;34m\"Singular matrix\"\u001b[0m\u001b[1;33m)\u001b[0m\u001b[1;33m\u001b[0m\u001b[1;33m\u001b[0m\u001b[0m\n\u001b[0m\u001b[0;32m     89\u001b[0m \u001b[1;33m\u001b[0m\u001b[0m\n\u001b[0;32m     90\u001b[0m \u001b[1;32mdef\u001b[0m \u001b[0m_raise_linalgerror_nonposdef\u001b[0m\u001b[1;33m(\u001b[0m\u001b[0merr\u001b[0m\u001b[1;33m,\u001b[0m \u001b[0mflag\u001b[0m\u001b[1;33m)\u001b[0m\u001b[1;33m:\u001b[0m\u001b[1;33m\u001b[0m\u001b[1;33m\u001b[0m\u001b[0m\n",
      "\u001b[1;31mLinAlgError\u001b[0m: Singular matrix"
     ]
    }
   ],
   "source": [
    "A = np.arange(1,19).reshape(6,3)\n",
    "\n",
    "(x1, x2), (e1, e2) = duas_sols_erros(A,np.ones(6))"
   ]
  },
  {
   "cell_type": "markdown",
   "id": "a99b35a1",
   "metadata": {},
   "source": [
    "O que aconteceu?"
   ]
  },
  {
   "cell_type": "markdown",
   "id": "50c26641",
   "metadata": {
    "deletable": false,
    "nbgrader": {
     "cell_type": "markdown",
     "checksum": "94aa8c82fb8527816672fc37747e2649",
     "grade": true,
     "grade_id": "cell-a2f0eddf5eb48f1d",
     "locked": false,
     "points": 2,
     "schema_version": 3,
     "solution": true,
     "task": false
    }
   },
   "source": [
    "Tivemos um erro de \"Singular Matrix\" pois quando passamos para solve a matriz A, a função tenta resolver o problema Ax = b, com nosso A sendo (A.T)@A , e (A.T)@A é uma matriz com determinante = 0, logo ela terá infintas ou nenhuma solução. Impossibilitando a resolução do problema."
   ]
  }
 ],
 "metadata": {
  "kernelspec": {
   "display_name": "Python 3",
   "language": "python",
   "name": "python3"
  },
  "language_info": {
   "codemirror_mode": {
    "name": "ipython",
    "version": 3
   },
   "file_extension": ".py",
   "mimetype": "text/x-python",
   "name": "python",
   "nbconvert_exporter": "python",
   "pygments_lexer": "ipython3",
   "version": "3.8.10"
  }
 },
 "nbformat": 4,
 "nbformat_minor": 5
}
