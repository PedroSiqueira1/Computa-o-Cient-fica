{
 "cells": [
  {
   "cell_type": "markdown",
   "id": "aa6b5211",
   "metadata": {},
   "source": [
    "![CC-BY-SA](https://mirrors.creativecommons.org/presskit/buttons/88x31/svg/by-sa.svg)\n",
    "\n",
    "\n",
    "This notebook was created by [Bernardo Freitas Paulo da Costa](http://www.im.ufrj.br/bernardofpc),\n",
    "and is licensed under Creative Commons BY-SA."
   ]
  },
  {
   "cell_type": "markdown",
   "id": "671bf013",
   "metadata": {},
   "source": [
    "Antes de enviar este Teste, verifique que tudo está funcionando como esperado.\n",
    "Por exemplo, **rode o código inteiro, do zero**.\n",
    "Para isso, vá no menu, escolha _Kernel_, depois _Restart & Run All_.\n",
    "\n",
    "Verifique, também, que você respondeu todas as questões:\n",
    "* as questões de código têm `YOUR CODE HERE` (e você pode apagar o `raise NotImplemented` ao incluir sua resposta)\n",
    "* as questões discursivas têm \"YOUR ANSWER HERE\"."
   ]
  },
  {
   "cell_type": "markdown",
   "id": "098914bf",
   "metadata": {},
   "source": [
    "---"
   ]
  },
  {
   "cell_type": "code",
   "execution_count": 5,
   "id": "28f1c287",
   "metadata": {
    "deletable": false,
    "editable": false,
    "nbgrader": {
     "cell_type": "code",
     "checksum": "43e4846e2aa0e32065046028c7023af7",
     "grade": false,
     "grade_id": "cell-df7c2a01b629bc28",
     "locked": true,
     "schema_version": 3,
     "solution": false,
     "task": false
    }
   },
   "outputs": [],
   "source": [
    "import numpy as np\n",
    "import matplotlib.pyplot as plt"
   ]
  },
  {
   "cell_type": "markdown",
   "id": "80fdb009",
   "metadata": {},
   "source": [
    "# Teste 3: Método de Newton\n",
    "\n",
    "Vamos continuar o problema de calcular a função inversa de $f(x) = x e^x$."
   ]
  },
  {
   "cell_type": "markdown",
   "id": "b11e4bfb",
   "metadata": {},
   "source": [
    "# Questão 1: Newton para inversão\n",
    "\n",
    "Vamos generalizar o método de Newton para encontrar raizes de $f(x) = y$.\n",
    "\n",
    "Inclua abaixo tanto o método de Newton, retornando **todos** os pontos percorridos até encontrar a raiz."
   ]
  },
  {
   "cell_type": "code",
   "execution_count": 7,
   "id": "c950eb24",
   "metadata": {
    "deletable": false,
    "nbgrader": {
     "cell_type": "code",
     "checksum": "6446b79f96313d12e528a71d9fbb0316",
     "grade": false,
     "grade_id": "cell-01488b62ae1c6a0c",
     "locked": false,
     "schema_version": 3,
     "solution": true,
     "task": false
    }
   },
   "outputs": [],
   "source": [
    "def newton_y(f, df, y, x0, xtol=1e-12, maxiter=50):\n",
    "    \"\"\"Calcula uma raiz aproximada de  f(x) = y  pelo método de Newton, a partir do ponto x0.\"\"\"\n",
    "    def fun(x):\n",
    "        return f(x) - y\n",
    "    pontos = []\n",
    "    for _ in range(maxiter):\n",
    "        pontos.append(x0)\n",
    "        x1 = x0 - fun(x0)/df(x0)\n",
    "        if abs(x1-x0) <= xtol:\n",
    "            pontos.append(x1)\n",
    "            return pontos\n",
    "        x0 = x1\n",
    "    return pontos"
   ]
  },
  {
   "cell_type": "code",
   "execution_count": 3,
   "id": "189feab5",
   "metadata": {
    "deletable": false,
    "editable": false,
    "nbgrader": {
     "cell_type": "code",
     "checksum": "66cbe2029f2f201e105cecad09d33638",
     "grade": true,
     "grade_id": "cell-e0ebc41b3dd240e9",
     "locked": true,
     "points": 1,
     "schema_version": 3,
     "solution": false,
     "task": false
    },
    "scrolled": true
   },
   "outputs": [],
   "source": [
    "def f1(x):\n",
    "    return x * np.log(x)\n",
    "\n",
    "def df1(x):\n",
    "    return np.log(x) + 1\n",
    "\n",
    "pts_newton = newton_y(f1, df1, 1.1, 1)\n",
    "assert abs(f1(pts_newton[-1]) - 1.1) < 1e-10"
   ]
  },
  {
   "cell_type": "code",
   "execution_count": 4,
   "id": "d23dee05",
   "metadata": {
    "deletable": false,
    "editable": false,
    "nbgrader": {
     "cell_type": "code",
     "checksum": "3d537a880aa15cd769db04d98c558f23",
     "grade": true,
     "grade_id": "cell-a3f1b983ac6e7995",
     "locked": true,
     "points": 1,
     "schema_version": 3,
     "solution": false,
     "task": false
    },
    "scrolled": true
   },
   "outputs": [],
   "source": [
    "pts_newton = newton_y(f1, df1, 1.1, 1)\n",
    "\n",
    "assert abs(f1(pts_newton[1]) - 1.1) > 1e-3\n",
    "assert 3 < len(pts_newton) < 10"
   ]
  },
  {
   "cell_type": "code",
   "execution_count": 5,
   "id": "8b5d147e",
   "metadata": {
    "deletable": false,
    "editable": false,
    "nbgrader": {
     "cell_type": "code",
     "checksum": "f194c614e6983f8054ee44f204602373",
     "grade": true,
     "grade_id": "cell-d0aeb5d95ed08e07",
     "locked": true,
     "points": 1,
     "schema_version": 3,
     "solution": false,
     "task": false
    }
   },
   "outputs": [],
   "source": [
    "def f2(x):\n",
    "    return x * np.sin(x)\n",
    "\n",
    "def df2(x):\n",
    "    return np.sin(x) + x * np.cos(x)\n",
    "\n",
    "pts_newton = newton_y(f2, df2, 1.1, 1)\n",
    "assert abs(f2(pts_newton[-1]) - 1.1) < 1e-10"
   ]
  },
  {
   "cell_type": "markdown",
   "id": "fb3f9d44",
   "metadata": {},
   "source": [
    "# Questão 2: Gráficos\n",
    "\n",
    "O método de Newton funciona bem quando a primeira derivada está suficientemente longe de zero.\n",
    "\n",
    "## Questão 2.1: Derivada\n",
    "Faça um gráfico da derivada $f'(x)$, e deduza as regiões onde o método de Newton provavelmente funciona bem,\n",
    "e onde ele funciona mal."
   ]
  },
  {
   "cell_type": "code",
   "execution_count": 6,
   "id": "f70452d5",
   "metadata": {
    "deletable": false,
    "editable": false,
    "nbgrader": {
     "cell_type": "code",
     "checksum": "bc324602f237db470f69d42b1ea56124",
     "grade": false,
     "grade_id": "cell-800b8a25db17cd5b",
     "locked": true,
     "schema_version": 3,
     "solution": false,
     "task": false
    }
   },
   "outputs": [],
   "source": [
    "def f(x):\n",
    "    return x * np.exp(x)\n",
    "\n",
    "def df(x):\n",
    "    return (x+1) * np.exp(x)"
   ]
  },
  {
   "cell_type": "code",
   "execution_count": 7,
   "id": "fea14d77",
   "metadata": {
    "deletable": false,
    "nbgrader": {
     "cell_type": "code",
     "checksum": "c011a85a28031622aeca4cdb14b57042",
     "grade": true,
     "grade_id": "cell-591a25b1a2d849ac",
     "locked": false,
     "points": 1,
     "schema_version": 3,
     "solution": true,
     "task": false
    }
   },
   "outputs": [
    {
     "data": {
      "image/png": "[encoded data removed]",
      "text/plain": [
       "<Figure size 432x288 with 1 Axes>"
      ]
     },
     "metadata": {
      "needs_background": "light"
     },
     "output_type": "display_data"
    }
   ],
   "source": [
    "x = np.linspace(-10,10,100)\n",
    "\n",
    "    \n",
    "ax = plt.gca()\n",
    "ax.set(xlabel='Eixo X', ylabel='Eixo Y',\n",
    "       title='Gráfico de derivada de f(x)')\n",
    "plt.plot(x,df(x))\n",
    "plt.grid()\n",
    "\n",
    "\n",
    "\n",
    "plt.show()"
   ]
  },
  {
   "cell_type": "code",
   "execution_count": 8,
   "id": "0ba4fb63",
   "metadata": {
    "deletable": false,
    "editable": false,
    "nbgrader": {
     "cell_type": "code",
     "checksum": "7f8be762c541018c76c7e0ae845547d6",
     "grade": true,
     "grade_id": "cell-03b0cbc40cda2de8",
     "locked": true,
     "points": 1,
     "schema_version": 3,
     "solution": false,
     "task": false
    }
   },
   "outputs": [],
   "source": [
    "assert len(ax.lines) >= 1\n",
    "assert len(ax.title.get_text()) > 0"
   ]
  },
  {
   "cell_type": "code",
   "execution_count": 9,
   "id": "7db75574",
   "metadata": {
    "deletable": false,
    "editable": false,
    "nbgrader": {
     "cell_type": "code",
     "checksum": "27499cae29f4ba7d448924fb6272ff97",
     "grade": false,
     "grade_id": "cell-0ed285f439808291",
     "locked": true,
     "schema_version": 3,
     "solution": false,
     "task": false
    }
   },
   "outputs": [],
   "source": [
    "ax = None"
   ]
  },
  {
   "cell_type": "markdown",
   "id": "b92469d3",
   "metadata": {},
   "source": [
    "Em quais regiões o gráfico sugere que será difícil calcular uma raiz de $f(x) = y$?"
   ]
  },
  {
   "cell_type": "markdown",
   "id": "72d7f821",
   "metadata": {
    "deletable": false,
    "nbgrader": {
     "cell_type": "markdown",
     "checksum": "7e4adb3797fcf38bd54bdf2b3cae2a9f",
     "grade": true,
     "grade_id": "cell-3d08a4024fc168c6",
     "locked": false,
     "points": 1,
     "schema_version": 3,
     "solution": true,
     "task": false
    }
   },
   "source": [
    "Sabemos que será complicado calcular a raiz quando a derivada da função for igual a 0, e pelo gráfico é possivel perceber que para x < 5 a derivada já se aproxima bastante de 0."
   ]
  },
  {
   "cell_type": "markdown",
   "id": "410d7786",
   "metadata": {},
   "source": [
    "## Questão 2.2: Número de iterações para Newton\n",
    "\n",
    "Faça o gráfico do número de iterações necessárias para o método de Newton encontrar uma raiz de $f(x) = y$\n",
    "para $y$ no intervalo $[1,100]$, e partindo de $x_0 = 1$."
   ]
  },
  {
   "cell_type": "code",
   "execution_count": 15,
   "id": "f209a2d4",
   "metadata": {},
   "outputs": [
    {
     "data": {
      "image/png": "[encoded data removed]",
      "text/plain": [
       "<Figure size 432x288 with 1 Axes>"
      ]
     },
     "metadata": {
      "needs_background": "light"
     },
     "output_type": "display_data"
    }
   ],
   "source": [
    "def f2(x):\n",
    "    return x**2\n",
    "def df2(x):\n",
    "    return 2*x\n",
    "def f3(x):\n",
    "    return x**3\n",
    "def df3(x):\n",
    "    return 3*x**2\n",
    "\n",
    "pts_f2 = np.array(newton_y(f2, df2, 2, 2))\n",
    "pts_f3 = np.array(newton_y(f3, df3, 3, 3))\n",
    "\n",
    "\n",
    "    \n",
    "ax = plt.gca()\n",
    "ax.set(xlabel='Iterações', ylabel='Distância',\n",
    "       title='Distância entre o ponto e a raiz')\n",
    "\n",
    "plt.plot(np.arange(1,len(pts_f2) + 1),abs(pts_f2 - np.sqrt(2)), label = 'F2')\n",
    "plt.plot(np.arange(1,len(pts_f3) + 1),abs(pts_f3 - np.cbrt(3)), label = 'F3')\n",
    "ax.legend()\n",
    "plt.grid()\n",
    "\n",
    "\n",
    "\n",
    "plt.show()"
   ]
  },
  {
   "cell_type": "code",
   "execution_count": 10,
   "id": "f47e59ae",
   "metadata": {
    "deletable": false,
    "nbgrader": {
     "cell_type": "code",
     "checksum": "838378f30eb3250f8d93f72986c9ff93",
     "grade": false,
     "grade_id": "cell-aabddeab26b8e124",
     "locked": false,
     "schema_version": 3,
     "solution": true,
     "task": false
    }
   },
   "outputs": [
    {
     "data": {
      "image/png": "[encoded data removed]",
      "text/plain": [
       "<Figure size 432x288 with 1 Axes>"
      ]
     },
     "metadata": {
      "needs_background": "light"
     },
     "output_type": "display_data"
    }
   ],
   "source": [
    "iteracoes = [] \n",
    "for y in range(1,101):\n",
    "    pts_newton = newton_y(f, df, y, 1)\n",
    "    iteracoes.append(len(pts_newton))\n",
    "\n",
    "    \n",
    "ax = plt.gca()\n",
    "ax.set(xlabel='Y', ylabel='Iterações',\n",
    "       title='Numero de iterações por Y ')\n",
    "plt.plot(np.arange(1,101),iteracoes)\n",
    "plt.grid()\n",
    "\n",
    "\n",
    "\n",
    "plt.show()"
   ]
  },
  {
   "cell_type": "code",
   "execution_count": 11,
   "id": "0b1e65f0",
   "metadata": {
    "deletable": false,
    "editable": false,
    "nbgrader": {
     "cell_type": "code",
     "checksum": "bf9b60008356069dfd881e0d4353d9d9",
     "grade": true,
     "grade_id": "cell-0e4640465a4c1e5a",
     "locked": true,
     "points": 1,
     "schema_version": 3,
     "solution": false,
     "task": false
    }
   },
   "outputs": [],
   "source": [
    "assert len(ax.lines) == 1\n",
    "assert len(ax.title.get_text()) > 0"
   ]
  },
  {
   "cell_type": "code",
   "execution_count": 12,
   "id": "02f34239",
   "metadata": {
    "deletable": false,
    "editable": false,
    "nbgrader": {
     "cell_type": "code",
     "checksum": "36d0773b78d0f9e2f03afe41bc6d448c",
     "grade": true,
     "grade_id": "cell-8ee2f33778a564c2",
     "locked": true,
     "points": 1,
     "schema_version": 3,
     "solution": false,
     "task": false
    }
   },
   "outputs": [],
   "source": [
    "assert len(ax.get_xlabel()) > 0\n",
    "assert len(ax.get_ylabel()) > 0"
   ]
  },
  {
   "cell_type": "code",
   "execution_count": 13,
   "id": "674e1a93",
   "metadata": {
    "deletable": false,
    "editable": false,
    "nbgrader": {
     "cell_type": "code",
     "checksum": "ec6c1fa8cea9c08d329382d5117d53d8",
     "grade": true,
     "grade_id": "cell-62d3bf6b9b9f6da9",
     "locked": true,
     "points": 1,
     "schema_version": 3,
     "solution": false,
     "task": false
    }
   },
   "outputs": [],
   "source": [
    "ydata = ax.lines[0].get_ydata()\n",
    "assert 5 <= min(ydata) <= 7\n",
    "assert 22 <= max(ydata) <= 30"
   ]
  },
  {
   "cell_type": "code",
   "execution_count": 14,
   "id": "fea4e56b",
   "metadata": {
    "deletable": false,
    "editable": false,
    "nbgrader": {
     "cell_type": "code",
     "checksum": "f9ae3887f8ac7b4a8cee91cae88d6fc8",
     "grade": false,
     "grade_id": "cell-37616d58b31acd62",
     "locked": true,
     "schema_version": 3,
     "solution": false,
     "task": false
    }
   },
   "outputs": [],
   "source": [
    "ax = None"
   ]
  },
  {
   "cell_type": "markdown",
   "id": "46d3825a",
   "metadata": {},
   "source": [
    "Agora, para cada $y$ (no mesmo intervalo), faça o gráfico\n",
    "- da raiz encontrada; e\n",
    "- do maior ponto testado pelo método de Newton,\n",
    "\n",
    "no mesmo eixo."
   ]
  },
  {
   "cell_type": "code",
   "execution_count": 15,
   "id": "c220769c",
   "metadata": {
    "deletable": false,
    "nbgrader": {
     "cell_type": "code",
     "checksum": "c6d42971e6048d2f218fdf5148e96ccf",
     "grade": false,
     "grade_id": "cell-06174d781ae4f044",
     "locked": false,
     "schema_version": 3,
     "solution": true,
     "task": false
    }
   },
   "outputs": [
    {
     "data": {
      "image/png": "[encoded data removed]",
      "text/plain": [
       "<Figure size 432x288 with 1 Axes>"
      ]
     },
     "metadata": {
      "needs_background": "light"
     },
     "output_type": "display_data"
    }
   ],
   "source": [
    "maiores = []\n",
    "raizes = []\n",
    "for y in range(1,101):\n",
    "    pts_newton = newton_y(f, df, y, 1)\n",
    "    raiz = pts_newton[-1]\n",
    "    raizes.append(raiz)\n",
    "    maior = max(pts_newton)\n",
    "    maiores.append(maior)\n",
    "\n",
    "    \n",
    "ax = plt.gca()\n",
    "ax.set(xlabel='Y', ylabel='Maiores pontos e Raizes encontradas',\n",
    "       title='Maiores pontos e Raizes encontradas por Y')\n",
    "\n",
    "plt.plot(np.arange(1,101),raizes, label = 'Raizes encontradas')\n",
    "plt.plot(np.arange(1,101),maiores, label = 'Maiores pontos testados')\n",
    "ax.legend()\n",
    "plt.grid()\n",
    "\n",
    "\n",
    "\n",
    "plt.show()"
   ]
  },
  {
   "cell_type": "code",
   "execution_count": 16,
   "id": "5d5546ee",
   "metadata": {
    "deletable": false,
    "editable": false,
    "nbgrader": {
     "cell_type": "code",
     "checksum": "569826cb5779e60b4555a4e4402c9bbe",
     "grade": true,
     "grade_id": "cell-712cf22d5d02c889",
     "locked": true,
     "points": 1,
     "schema_version": 3,
     "solution": false,
     "task": false
    }
   },
   "outputs": [],
   "source": [
    "assert len(ax.lines) == 2\n",
    "assert len(ax.get_legend().texts) == 2\n",
    "assert len(ax.title.get_text()) > 0"
   ]
  },
  {
   "cell_type": "code",
   "execution_count": 17,
   "id": "664b9f92",
   "metadata": {
    "deletable": false,
    "editable": false,
    "nbgrader": {
     "cell_type": "code",
     "checksum": "255d23568c485093e0d21f2d191ea8e5",
     "grade": false,
     "grade_id": "cell-1080d08d6723645b",
     "locked": true,
     "schema_version": 3,
     "solution": false,
     "task": false
    }
   },
   "outputs": [],
   "source": [
    "ax = None"
   ]
  },
  {
   "cell_type": "markdown",
   "id": "82abf080",
   "metadata": {},
   "source": [
    "Como este gráfico ajuda a explicar o anterior?"
   ]
  },
  {
   "cell_type": "markdown",
   "id": "6e4d94a1",
   "metadata": {
    "deletable": false,
    "nbgrader": {
     "cell_type": "markdown",
     "checksum": "273075e09bea9abf4e234893f0f5e814",
     "grade": true,
     "grade_id": "cell-96e21b6497f70130",
     "locked": false,
     "points": 2,
     "schema_version": 3,
     "solution": true,
     "task": false
    }
   },
   "source": [
    "Quanto maior o y no nosso gráfico, maiores são os pontos máximos testados, e quanto maiores os pontos máximos testados, mais longe estamos da nossa raiz e precisamos de mais iterações para encontrar a raiz. E isso mostra que para para y maiores, precisamos de mais iterações."
   ]
  },
  {
   "cell_type": "markdown",
   "id": "32f31696",
   "metadata": {},
   "source": [
    "## Questão 2.3: Outro ponto inicial\n",
    "\n",
    "Agora, considere que o ponto inicial para encontrar uma raiz de $x e^x = y$ é $\\log y$.\n",
    "Quantas iterações são necessárias?"
   ]
  },
  {
   "cell_type": "code",
   "execution_count": 18,
   "id": "0088d685",
   "metadata": {
    "deletable": false,
    "nbgrader": {
     "cell_type": "code",
     "checksum": "8ae5414806e563c343659e577628d6a6",
     "grade": false,
     "grade_id": "cell-06b2958864fdff69",
     "locked": false,
     "schema_version": 3,
     "solution": true,
     "task": false
    }
   },
   "outputs": [
    {
     "data": {
      "image/png": "[encoded data removed]",
      "text/plain": [
       "<Figure size 432x288 with 1 Axes>"
      ]
     },
     "metadata": {
      "needs_background": "light"
     },
     "output_type": "display_data"
    }
   ],
   "source": [
    "iteracoes = [] \n",
    "for y in range(1,101):\n",
    "    pts_newton = newton_y(f, df, y, np.log(y))\n",
    "    iteracoes.append(len(pts_newton))\n",
    "\n",
    "    \n",
    "ax = plt.gca()\n",
    "ax.set(xlabel='Y', ylabel='Iterações',\n",
    "       title='Numero de iterações por Y ')\n",
    "plt.plot(np.arange(1,101),iteracoes)\n",
    "plt.grid()\n",
    "\n",
    "\n",
    "\n",
    "plt.show()"
   ]
  },
  {
   "cell_type": "code",
   "execution_count": 19,
   "id": "503bd7f6",
   "metadata": {
    "deletable": false,
    "editable": false,
    "nbgrader": {
     "cell_type": "code",
     "checksum": "878da73c15180fe0c2b0a613fa539271",
     "grade": true,
     "grade_id": "cell-77910f3b72a808c6",
     "locked": true,
     "points": 1,
     "schema_version": 3,
     "solution": false,
     "task": false
    }
   },
   "outputs": [],
   "source": [
    "assert len(ax.lines) == 1\n",
    "assert len(ax.title.get_text()) > 0"
   ]
  },
  {
   "cell_type": "code",
   "execution_count": 20,
   "id": "60aba383",
   "metadata": {
    "deletable": false,
    "editable": false,
    "nbgrader": {
     "cell_type": "code",
     "checksum": "f0e0b6f2a5e832665fb76b39d89019e4",
     "grade": false,
     "grade_id": "cell-79af039f4bcdc177",
     "locked": true,
     "schema_version": 3,
     "solution": false,
     "task": false
    }
   },
   "outputs": [],
   "source": [
    "ax = None"
   ]
  },
  {
   "cell_type": "markdown",
   "id": "15974ccd",
   "metadata": {},
   "source": [
    "O que aconteceu?"
   ]
  },
  {
   "cell_type": "markdown",
   "id": "f00a9a71",
   "metadata": {
    "deletable": false,
    "nbgrader": {
     "cell_type": "markdown",
     "checksum": "df368a995d08a9beb4d6db61940b8950",
     "grade": true,
     "grade_id": "cell-47fc3651761a578b",
     "locked": false,
     "points": 1,
     "schema_version": 3,
     "solution": true,
     "task": false
    }
   },
   "source": [
    "É possível perceber que para log de y como ponto inicial, o método de Newton funciona muito bem, precisando apenas de poucas iterações para ser concluído. Diferente de x0 = 1, onde as iterações aumentam progressivamente, com x0 = log y, as iterações aumentam em uma escala bem mais devagar, como é possivel perceber que a partir de y = 20, as iterações ficam estagnadas em 8."
   ]
  },
  {
   "cell_type": "markdown",
   "id": "d7b4b255",
   "metadata": {},
   "source": [
    "Refaça os gráficos do maior ponto e da raiz."
   ]
  },
  {
   "cell_type": "code",
   "execution_count": 21,
   "id": "161a9164",
   "metadata": {
    "deletable": false,
    "nbgrader": {
     "cell_type": "code",
     "checksum": "0a588663c1b1cec8fd72737e24bd609b",
     "grade": false,
     "grade_id": "cell-aa72ed3f225df84c",
     "locked": false,
     "schema_version": 3,
     "solution": true,
     "task": false
    }
   },
   "outputs": [
    {
     "data": {
      "image/png": "[encoded data removed]",
      "text/plain": [
       "<Figure size 432x288 with 1 Axes>"
      ]
     },
     "metadata": {
      "needs_background": "light"
     },
     "output_type": "display_data"
    }
   ],
   "source": [
    "maiores = []\n",
    "raizes = []\n",
    "for y in range(1,101):\n",
    "    pts_newton = newton_y(f, df, y, np.log(y))\n",
    "    raiz = pts_newton[-1]\n",
    "    raizes.append(raiz)\n",
    "    maior = max(pts_newton)\n",
    "    maiores.append(maior)\n",
    "\n",
    "    \n",
    "ax = plt.gca()\n",
    "ax.set(xlabel='Y', ylabel='Maiores pontos e Raizes encontradas',\n",
    "       title='Maiores pontos e Raizes encontradas por Y')\n",
    "\n",
    "plt.plot(np.arange(1,101),raizes, label = 'Raizes encontradas')\n",
    "plt.plot(np.arange(1,101),maiores, label = 'Maiores pontos testados')\n",
    "ax.legend()\n",
    "plt.grid()\n",
    "\n",
    "\n",
    "\n",
    "plt.show()"
   ]
  },
  {
   "cell_type": "markdown",
   "id": "41bc3534",
   "metadata": {},
   "source": [
    "Como este gráfico ajuda a explicar os anteriores?"
   ]
  },
  {
   "cell_type": "markdown",
   "id": "29ecf125",
   "metadata": {
    "deletable": false,
    "nbgrader": {
     "cell_type": "markdown",
     "checksum": "05012d4f7322a26bc300de874686261d",
     "grade": true,
     "grade_id": "cell-5ee02b5d89dd29fa",
     "locked": false,
     "points": 3,
     "schema_version": 3,
     "solution": true,
     "task": false
    }
   },
   "source": [
    "Pelo gráficos podemos analisar que diferentemente de x0 = 1, aqui os maiores pontos não crescem de forma linear, mas sim de forma logarítimica, isso faz com que eles crescam de forma mais devagar. E pela mesma lógica da explicação anterior, se estamos nos afastando menos da nossa raiz, precisaremos de menos iterações para encontra-la."
   ]
  },
  {
   "cell_type": "markdown",
   "id": "4f40a4ed",
   "metadata": {},
   "source": [
    "# Questão 3: Regiões difíceis\n",
    "\n",
    "Vamos agora observar quão difícil é calcular uma raiz de $x e^x = y$ para pontos onde a derivada é praticamente nula."
   ]
  },
  {
   "cell_type": "markdown",
   "id": "00bbff46",
   "metadata": {},
   "source": [
    "## Questão 3.1: Ponto de mínimo\n",
    "\n",
    "Faça um gráfico do número de iterações do método de Newton para calcular a raiz de $x e^x = y$ para $y$ no intervalo $[-1/e, 0]$, começando a partir de $x = 0$."
   ]
  },
  {
   "cell_type": "code",
   "execution_count": 22,
   "id": "019be217",
   "metadata": {
    "deletable": false,
    "nbgrader": {
     "cell_type": "code",
     "checksum": "34886c7cb730bd509d67ecc1f9b0169a",
     "grade": false,
     "grade_id": "cell-bb6e6b4570d28887",
     "locked": false,
     "schema_version": 3,
     "solution": true,
     "task": false
    }
   },
   "outputs": [
    {
     "data": {
      "image/png": "[encoded data removed]",
      "text/plain": [
       "<Figure size 432x288 with 1 Axes>"
      ]
     },
     "metadata": {
      "needs_background": "light"
     },
     "output_type": "display_data"
    }
   ],
   "source": [
    "iteracoes = [] \n",
    "for y in np.linspace((-1/np.e),0):\n",
    "    pts_newton = newton_y(f, df, y, 0)\n",
    "    iteracoes.append(len(pts_newton))\n",
    "\n",
    "    \n",
    "ax = plt.gca()\n",
    "ax.set(xlabel='Y', ylabel='Iterações',\n",
    "       title='Numero de iterações por Y ')\n",
    "plt.plot(np.linspace((-1/np.e),0),iteracoes)\n",
    "plt.grid()\n",
    "\n",
    "\n",
    "\n",
    "plt.show()"
   ]
  },
  {
   "cell_type": "code",
   "execution_count": 23,
   "id": "7530fc60",
   "metadata": {
    "deletable": false,
    "editable": false,
    "nbgrader": {
     "cell_type": "code",
     "checksum": "614be8af1578b8889431bfc687792371",
     "grade": true,
     "grade_id": "cell-ff67a4e8c14669e4",
     "locked": true,
     "points": 1,
     "schema_version": 3,
     "solution": false,
     "task": false
    }
   },
   "outputs": [],
   "source": [
    "assert len(ax.lines) == 1\n",
    "assert len(ax.title.get_text()) > 0"
   ]
  },
  {
   "cell_type": "code",
   "execution_count": 24,
   "id": "238d07d7",
   "metadata": {
    "deletable": false,
    "editable": false,
    "nbgrader": {
     "cell_type": "code",
     "checksum": "04b3499708b17b35bc097e9eaad6cafd",
     "grade": true,
     "grade_id": "cell-8d455fd0f45ea965",
     "locked": true,
     "points": 1,
     "schema_version": 3,
     "solution": false,
     "task": false
    }
   },
   "outputs": [],
   "source": [
    "vs = ax.lines[0].get_ydata()\n",
    "assert max(vs) > 20\n",
    "assert min(vs) < 5"
   ]
  },
  {
   "cell_type": "code",
   "execution_count": 25,
   "id": "25fc57f9",
   "metadata": {
    "deletable": false,
    "editable": false,
    "nbgrader": {
     "cell_type": "code",
     "checksum": "01be8f01ca3a6030ca57d292fb7bc90c",
     "grade": false,
     "grade_id": "cell-0c78472652f7b223",
     "locked": true,
     "schema_version": 3,
     "solution": false,
     "task": false
    }
   },
   "outputs": [],
   "source": [
    "ax = None"
   ]
  },
  {
   "cell_type": "markdown",
   "id": "905d718f",
   "metadata": {},
   "source": [
    "O que você observa no gráfico?"
   ]
  },
  {
   "cell_type": "markdown",
   "id": "d7a5dcb4",
   "metadata": {
    "deletable": false,
    "nbgrader": {
     "cell_type": "markdown",
     "checksum": "bdaf0ab096eeb113f3d37fe3dff8ca15",
     "grade": true,
     "grade_id": "cell-0dfc13abccdfb67b",
     "locked": false,
     "points": 2,
     "schema_version": 3,
     "solution": true,
     "task": false
    }
   },
   "source": [
    "Observamos que temos uma grande queda no início do gráfico no número de iterações, onde a derivada é quase igual a 0, e que a partir desse ponto, quando a derivada começa a alterar, as iterações caem drasticamente conforme aumentamos y."
   ]
  },
  {
   "cell_type": "markdown",
   "id": "0dfb9217",
   "metadata": {},
   "source": [
    "Agora, dê um zoom na parte que dá mais iterações.\n",
    "\n",
    "Dica: o estilo `\".:\"` para a linha pode ajudar a visualizar o que está acontecendo."
   ]
  },
  {
   "cell_type": "code",
   "execution_count": 26,
   "id": "318bd59b",
   "metadata": {
    "deletable": false,
    "nbgrader": {
     "cell_type": "code",
     "checksum": "5b5b9be2e9714e780c7388b743a0cf3b",
     "grade": true,
     "grade_id": "cell-d0e3e8cf1aaf3f6a",
     "locked": false,
     "points": 1,
     "schema_version": 3,
     "solution": true,
     "task": false
    }
   },
   "outputs": [
    {
     "data": {
      "image/png": "[encoded data removed]",
      "text/plain": [
       "<Figure size 432x288 with 1 Axes>"
      ]
     },
     "metadata": {
      "needs_background": "light"
     },
     "output_type": "display_data"
    }
   ],
   "source": [
    "iteracoes = [] \n",
    "for y in np.linspace((-1/np.e),-0.3670):\n",
    "    pts_newton = newton_y(f, df, y, 0)\n",
    "    iteracoes.append(len(pts_newton))\n",
    "\n",
    "    \n",
    "ax = plt.gca()\n",
    "ax.set(xlabel='Y', ylabel='Iterações',\n",
    "       title='Numero de iterações por Y ')\n",
    "plt.plot(np.linspace((-1/np.e),-0.3670),iteracoes, linestyle = ':')\n",
    "plt.grid()\n",
    "\n",
    "\n",
    "\n",
    "plt.show()"
   ]
  },
  {
   "cell_type": "code",
   "execution_count": 27,
   "id": "be333190",
   "metadata": {
    "deletable": false,
    "editable": false,
    "nbgrader": {
     "cell_type": "code",
     "checksum": "8b3c3263f97d9aea763acd32a7d446c4",
     "grade": true,
     "grade_id": "cell-076cdce5a3e2ac7a",
     "locked": true,
     "points": 2,
     "schema_version": 3,
     "solution": false,
     "task": false
    }
   },
   "outputs": [],
   "source": [
    "vs = ax.lines[0].get_ydata()\n",
    "assert max(vs) > 20\n",
    "assert 10 < min(vs) < 15"
   ]
  },
  {
   "cell_type": "code",
   "execution_count": 28,
   "id": "fb52f964",
   "metadata": {
    "deletable": false,
    "editable": false,
    "nbgrader": {
     "cell_type": "code",
     "checksum": "00866c8d5c21b65ac6b60ab906c676f3",
     "grade": false,
     "grade_id": "cell-3b4188f1833cbf37",
     "locked": true,
     "schema_version": 3,
     "solution": false,
     "task": false
    }
   },
   "outputs": [],
   "source": [
    "ax = None"
   ]
  },
  {
   "cell_type": "markdown",
   "id": "74d43b48",
   "metadata": {},
   "source": [
    "## Questão 3.2: Erros\n",
    "\n",
    "Agora, vamos construir $y = z e^z$ para $z$ entre 0 e -1.\n",
    "Assim, já saberemos qual a raiz de $x e^x = y$.\n",
    "\n",
    "Com isto, faça o gráfico do **erro absoluto** entre a raiz encontrada pelo método de Newton - começando de 0, como na questão anterior - e o valor real."
   ]
  },
  {
   "cell_type": "code",
   "execution_count": 29,
   "id": "a003a1f3",
   "metadata": {
    "deletable": false,
    "nbgrader": {
     "cell_type": "code",
     "checksum": "9d93196a2bc9209e827bd61b15d90311",
     "grade": true,
     "grade_id": "cell-0050c46eea198121",
     "locked": false,
     "points": 2,
     "schema_version": 3,
     "solution": true,
     "task": false
    }
   },
   "outputs": [
    {
     "name": "stdout",
     "output_type": "stream",
     "text": [
      "<class 'numpy.ndarray'>\n"
     ]
    },
    {
     "data": {
      "image/png": "[encoded data removed]",
      "text/plain": [
       "<Figure size 432x288 with 1 Axes>"
      ]
     },
     "metadata": {
      "needs_background": "light"
     },
     "output_type": "display_data"
    }
   ],
   "source": [
    "raizes = []\n",
    "z = np.linspace(-1,0)\n",
    "y = [f(z) for z in z]\n",
    "\n",
    "\n",
    "for y in y:\n",
    "    pts_newton = newton_y(f, df, y, 0)\n",
    "    raizes.append(pts_newton[-1])\n",
    "    \n",
    "ax = plt.gca()\n",
    "ax.set(xlabel='z', \n",
    "       ylabel='Erro absoluto',\n",
    "       title='Erro absoluto por z')\n",
    "print(type(z))\n",
    "plt.plot(z,raizes - z)\n",
    "plt.grid()\n",
    "\n",
    "\n",
    "\n",
    "plt.show()"
   ]
  },
  {
   "cell_type": "markdown",
   "id": "ca2dd401",
   "metadata": {},
   "source": [
    "## Questão 3.3: Um outro ponto de vista\n",
    "\n",
    "Vamos fazer um zoom na parte que dá maior erro.\n",
    "\n",
    "Para poder observar bem o que acontece, vamos olhar para $z = -1 + w$, e fazer o gráfico do erro em função de $w$.\n",
    "\n",
    "Dica: para escolher a melhor escala para os eixos, teste as diferentes combinações!"
   ]
  },
  {
   "cell_type": "code",
   "execution_count": 30,
   "id": "6cf7c32c",
   "metadata": {
    "deletable": false,
    "nbgrader": {
     "cell_type": "code",
     "checksum": "8a1089335d6b0b79a0cdbecdd79433df",
     "grade": true,
     "grade_id": "cell-8d08e83c18253fbc",
     "locked": false,
     "points": 2,
     "schema_version": 3,
     "solution": true,
     "task": false
    }
   },
   "outputs": [
    {
     "data": {
      "image/png": "[encoded data removed]",
      "text/plain": [
       "<Figure size 432x288 with 1 Axes>"
      ]
     },
     "metadata": {
      "needs_background": "light"
     },
     "output_type": "display_data"
    }
   ],
   "source": [
    "raizes = []\n",
    "ws = np.logspace(-53,0, num=200, base=2)\n",
    "zs = np.array([-1 + w for w in ws])\n",
    "#print(ws)\n",
    "#print(zs)\n",
    "y = []\n",
    "for z in zs:\n",
    "    y.append(f(z))\n",
    "\n",
    "\n",
    "for y in y:\n",
    "    pts_newton = newton_y(f, df, y, 0)\n",
    "    raizes.append(pts_newton[-1])\n",
    "    \n",
    "ax = plt.gca()\n",
    "ax.set(xlabel='ws', \n",
    "       ylabel='Erro absoluto',\n",
    "       title='Erro absoluto por w')\n",
    "\n",
    "plt.plot(ws,raizes - zs)\n",
    "plt.grid()\n",
    "plt.xscale('log')\n",
    "\n",
    "\n",
    "plt.show()"
   ]
  },
  {
   "cell_type": "markdown",
   "id": "3227c878",
   "metadata": {},
   "source": [
    "O que você observa?"
   ]
  },
  {
   "cell_type": "markdown",
   "id": "fce95765",
   "metadata": {
    "deletable": false,
    "nbgrader": {
     "cell_type": "markdown",
     "checksum": "9dda214de1e8462c0cbfedd3033ec525",
     "grade": true,
     "grade_id": "cell-3b26dd31709ef8ce",
     "locked": false,
     "points": 2,
     "schema_version": 3,
     "solution": true,
     "task": false
    }
   },
   "source": [
    "É possivel acompanhar melhor a mudança do erro absoluto no gráfico. Quando z está próximo de -1, ou seja, com um valor de w próximo de 0, nosso erro é bem grande, mas conforme aumentamos esse valor de w, e consequentemente, aumentamos z, ficamos com nosso erro cada vez menor. Se estabilizando após o ws = 10^-7."
   ]
  },
  {
   "cell_type": "code",
   "execution_count": null,
   "id": "b7dcccc3",
   "metadata": {},
   "outputs": [],
   "source": []
  }
 ],
 "metadata": {
  "kernelspec": {
   "display_name": "Python 3",
   "language": "python",
   "name": "python3"
  },
  "language_info": {
   "codemirror_mode": {
    "name": "ipython",
    "version": 3
   },
   "file_extension": ".py",
   "mimetype": "text/x-python",
   "name": "python",
   "nbconvert_exporter": "python",
   "pygments_lexer": "ipython3",
   "version": "3.8.10"
  }
 },
 "nbformat": 4,
 "nbformat_minor": 5
}
