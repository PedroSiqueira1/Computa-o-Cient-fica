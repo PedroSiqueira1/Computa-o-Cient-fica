{
 "cells": [
  {
   "cell_type": "markdown",
   "id": "fca63f65",
   "metadata": {},
   "source": [
    "![CC-BY-SA](https://mirrors.creativecommons.org/presskit/buttons/88x31/svg/by-sa.svg)\n",
    "\n",
    "\n",
    "This notebook was created by [Bernardo Freitas Paulo da Costa](http://www.im.ufrj.br/bernardofpc),\n",
    "and is licensed under Creative Commons BY-SA."
   ]
  },
  {
   "cell_type": "markdown",
   "id": "cbf0642b",
   "metadata": {},
   "source": [
    "Antes de enviar este Teste, verifique que tudo está funcionando como esperado.\n",
    "Por exemplo, **rode o código inteiro, do zero**.\n",
    "Para isso, vá no menu, escolha _Kernel_, depois _Restart & Run All_.\n",
    "\n",
    "Verifique, também, que você respondeu todas as questões:\n",
    "* as questões de código têm `YOUR CODE HERE` (e você pode apagar o `raise NotImplemented` ao incluir sua resposta)\n",
    "* as questões discursivas têm \"YOUR ANSWER HERE\"."
   ]
  },
  {
   "cell_type": "markdown",
   "id": "40998cb2",
   "metadata": {},
   "source": [
    "---"
   ]
  },
  {
   "cell_type": "markdown",
   "metadata": {},
   "source": [
    "# Teste 2: funções inversas\n",
    "\n",
    "Neste teste, iremos analisar a função $f(x) = x e^x$, para construir a função inversa $g(y) = x$."
   ]
  },
  {
   "cell_type": "code",
   "execution_count": 1,
   "metadata": {
    "deletable": false,
    "editable": false,
    "nbgrader": {
     "cell_type": "code",
     "checksum": "73de49f21337a82a1c6ae1d3fcf0fd10",
     "grade": false,
     "grade_id": "cell-f892a1b6b8618c5a",
     "locked": true,
     "schema_version": 3,
     "solution": false,
     "task": false
    }
   },
   "outputs": [],
   "source": [
    "import numpy as np\n",
    "import matplotlib.pyplot as plt"
   ]
  },
  {
   "cell_type": "code",
   "execution_count": 2,
   "metadata": {},
   "outputs": [],
   "source": [
    "import math"
   ]
  },
  {
   "cell_type": "markdown",
   "metadata": {},
   "source": [
    "# Questão 1: Análise da função\n",
    "\n",
    "## 1.1 Gráfico\n",
    "\n",
    "Em geral, uma boa forma de analisar uma função é fazendo o gráfico dela.\n",
    "\n",
    "Faça um gráfico de $f$ no intervalo $[-4,1]$. Também indique:\n",
    "- um título; e\n",
    "- dê nome aos eixos."
   ]
  },
  {
   "cell_type": "code",
   "execution_count": 3,
   "metadata": {
    "deletable": false,
    "nbgrader": {
     "cell_type": "code",
     "checksum": "87254f623e1913c82edef77d8286127f",
     "grade": false,
     "grade_id": "cell-b62ae0d9904027d1",
     "locked": false,
     "schema_version": 3,
     "solution": true,
     "task": false
    }
   },
   "outputs": [
    {
     "data": {
      "image/png": "[encoded data removed]",
      "text/plain": [
       "<Figure size 432x288 with 1 Axes>"
      ]
     },
     "metadata": {
      "needs_background": "light"
     },
     "output_type": "display_data"
    }
   ],
   "source": [
    "x = np.linspace(-4,1,100)\n",
    "\n",
    "y = x*(math.e**x)\n",
    "    \n",
    "ax = plt.gca()\n",
    "ax.set(xlabel='Eixo X', ylabel='Eixo Y',\n",
    "       title='Gráfico de f(x) = xe^x')\n",
    "plt.plot(x,y)\n",
    "plt.grid()\n",
    "plt.show()"
   ]
  },
  {
   "cell_type": "code",
   "execution_count": 4,
   "metadata": {
    "deletable": false,
    "editable": false,
    "nbgrader": {
     "cell_type": "code",
     "checksum": "3f0a8121e81accf2342420cb68bf607e",
     "grade": true,
     "grade_id": "cell-55a02f4e466c71f9",
     "locked": true,
     "points": 1,
     "schema_version": 3,
     "solution": false,
     "task": false
    }
   },
   "outputs": [],
   "source": [
    "assert len(ax.lines) == 1\n",
    "assert ax.title.get_text() != \"\"\n",
    "assert ax.get_xlabel() != \"\"\n",
    "assert ax.get_ylabel() != \"\""
   ]
  },
  {
   "cell_type": "code",
   "execution_count": 5,
   "metadata": {
    "deletable": false,
    "editable": false,
    "nbgrader": {
     "cell_type": "code",
     "checksum": "a54967b19d4f6d4b0d9f4b0badde3aa6",
     "grade": true,
     "grade_id": "cell-5698f335a74400b0",
     "locked": true,
     "points": 1,
     "schema_version": 3,
     "solution": false,
     "task": false
    }
   },
   "outputs": [],
   "source": [
    "valores = ax.lines[0].get_ydata()\n",
    "a, b = min(valores), max(valores)\n",
    "assert np.isclose(a, -0.36787944117144, atol=1e-4)\n",
    "assert np.isclose(b, 2.718281828459045, atol=1e-4)"
   ]
  },
  {
   "cell_type": "code",
   "execution_count": 6,
   "metadata": {
    "deletable": false,
    "editable": false,
    "nbgrader": {
     "cell_type": "code",
     "checksum": "09fd02acab044cf07600ad3f94fb3364",
     "grade": false,
     "grade_id": "cell-dda92a036aeac2eb",
     "locked": true,
     "schema_version": 3,
     "solution": false,
     "task": false
    }
   },
   "outputs": [],
   "source": [
    "ax = None"
   ]
  },
  {
   "cell_type": "markdown",
   "metadata": {},
   "source": [
    "## 1.2: Mínimos e Máximos\n",
    "\n",
    "Se uma função troca a direção de crescimento, isso muda a análise das raízes.\n",
    "Portanto, é importante saber onde estão os máximos e mínimos locais de $f$."
   ]
  },
  {
   "cell_type": "markdown",
   "metadata": {},
   "source": [
    "Calcule (analiticamente) a derivada de $f$, e indique o(s) ponto(s) em que ela se anula.\n",
    "\n",
    "São pontos de máximo ou de mínimo?"
   ]
  },
  {
   "cell_type": "markdown",
   "metadata": {
    "deletable": false,
    "nbgrader": {
     "cell_type": "markdown",
     "checksum": "7e3e8d3e8067a518e92008e4817894cc",
     "grade": true,
     "grade_id": "cell-afcca791543112ae",
     "locked": false,
     "points": 2,
     "schema_version": 3,
     "solution": true,
     "task": false
    }
   },
   "source": [
    "f(x) = x*(e^x)\n",
    "\n",
    "Derivando:\n",
    "\n",
    "f'(x) = x*(e^x) + e^x\n",
    "\n",
    "Igualando a 0:\n",
    "\n",
    "x*(e^x) + e^x = 0\n",
    "\n",
    "e^x * (x + 1 ) = 0\n",
    "\n",
    "Ou e^x = 0 - > x = -∞\n",
    "\n",
    "Ou x + 1 = 0 - > x = -1\n",
    "\n",
    "\n",
    "Temos na função 1 ponto de mínimo, (-1, -1/e). Onde a derivada de f(x) se anula."
   ]
  },
  {
   "cell_type": "markdown",
   "metadata": {},
   "source": [
    "Agora, faça uma figura com dois gráficos:\n",
    "- No primeiro, o gráfico da derivada de $f$ no mesmo intervalo $[-4, 1]$;\n",
    "- Ao lado, um \"zoom\" em uma região que você considere importante."
   ]
  },
  {
   "cell_type": "code",
   "execution_count": 7,
   "metadata": {
    "deletable": false,
    "nbgrader": {
     "cell_type": "code",
     "checksum": "92e71a245f6ba6ac1e1c6df575a61b7d",
     "grade": true,
     "grade_id": "cell-cdaee38e6b4914a3",
     "locked": false,
     "points": 2,
     "schema_version": 3,
     "solution": true,
     "task": false
    }
   },
   "outputs": [
    {
     "data": {
      "image/png": "[encoded data removed]",
      "text/plain": [
       "<Figure size 864x288 with 2 Axes>"
      ]
     },
     "metadata": {
      "needs_background": "light"
     },
     "output_type": "display_data"
    }
   ],
   "source": [
    "fig, [ax1, ax2] = plt.subplots(ncols=2, figsize=(12,4))\n",
    "\n",
    "\n",
    "y = x*(math.e**x) + math.e**x\n",
    "\n",
    "ax1.plot(x,y)\n",
    "ax1.set(xlabel='Eixo X', ylabel='Eixo Y',\n",
    "       title='Gráfico de xe^x + e^x')\n",
    "\n",
    "ax2.plot(x,y)\n",
    "ax2.set(xlabel='Eixo X', ylabel='Eixo Y',\n",
    "       title='Gráfico de xe^x + e^x com zoom')\n",
    "\n",
    "ax2.margins(0,0.2)\n",
    "plt.grid()\n",
    "plt.show()"
   ]
  },
  {
   "cell_type": "markdown",
   "metadata": {},
   "source": [
    "Como estes gráficos ajudam a confirmar os mínimos e máximos que você calculou?"
   ]
  },
  {
   "cell_type": "markdown",
   "metadata": {
    "deletable": false,
    "nbgrader": {
     "cell_type": "markdown",
     "checksum": "b3cd784e6f641d7e4583d269628e64d4",
     "grade": true,
     "grade_id": "cell-2ff292ac34b1722f",
     "locked": false,
     "points": 2,
     "schema_version": 3,
     "solution": true,
     "task": false
    }
   },
   "source": [
    "Dando zoom na região, é possivel perceber melhor como a raiz da derivada realmente está em -1, e como a derivada era antes negativa e depois ficou positiva, sabemos que é um ponto de mínimo."
   ]
  },
  {
   "cell_type": "markdown",
   "metadata": {},
   "source": [
    "## 1.3: Número de raízes\n",
    "\n",
    "Usando a informação da derivada da função, seus maximo(s) e minimo(s), responda: \n",
    "\n",
    "Quantas raizes a equação $f(x) = y$ tem para cada valor de $y$?"
   ]
  },
  {
   "cell_type": "markdown",
   "metadata": {
    "deletable": false,
    "nbgrader": {
     "cell_type": "markdown",
     "checksum": "d6189a63d8e27d60d02d8283ae8d4e2c",
     "grade": true,
     "grade_id": "cell-5dde5d2327304877",
     "locked": false,
     "points": 2,
     "schema_version": 3,
     "solution": true,
     "task": false
    }
   },
   "source": [
    "Como sabemos que (-1,-1/e) é um ponto de mínimo. Sabemos que somando 1/e a f(x), teremos o ponto mínimo da equação colidindo com o Eixo X, e assim teremos apenas uma raiz, o próprio ponto mínimo.\n",
    "\n",
    "Então se tivermos um y < -1/e: f(x) terá 0 raízes,\n",
    "\n",
    "Então se tivermos um y = -1/e: f(x) terá 1 raízes,\n",
    "\n",
    "Então se tivermos um y > -1/e: f(x) terá 2 raízes.\n"
   ]
  },
  {
   "cell_type": "markdown",
   "metadata": {},
   "source": [
    "# Questão 2: Construindo a função inversa"
   ]
  },
  {
   "cell_type": "markdown",
   "metadata": {},
   "source": [
    "A maior dificuldade de usar a bisseção para construir a função inversa é que precisamos de um intervalo onde a raiz estará.\n",
    "\n",
    "## 2.1: Gráficos para limitar a bisseção\n",
    "\n",
    "Faça um gráfico das funções $x e^x$ e $e^x$ e veja que,\n",
    "para $y$ suficientemente grande,\n",
    "a raiz estará sempre abaixo de $\\log y$.\n",
    "Isso permite achar um limite superior para um intervalo de bisseção.\n",
    "\n",
    "Escolha um intervalo razoável para o gráfico, que ajude a observar quão \"grande\" $y$ deve ser."
   ]
  },
  {
   "cell_type": "code",
   "execution_count": 8,
   "metadata": {
    "deletable": false,
    "nbgrader": {
     "cell_type": "code",
     "checksum": "baad991f3fc242ba5ba13fd8eaa18daa",
     "grade": true,
     "grade_id": "cell-f37ddc6a9a659c5e",
     "locked": false,
     "points": 2,
     "schema_version": 3,
     "solution": true,
     "task": false
    }
   },
   "outputs": [
    {
     "data": {
      "image/png": "[encoded data removed]",
      "text/plain": [
       "<Figure size 432x288 with 1 Axes>"
      ]
     },
     "metadata": {
      "needs_background": "light"
     },
     "output_type": "display_data"
    }
   ],
   "source": [
    "x2 = np.linspace(-4,np.log(1))\n",
    "\n",
    "\n",
    "y1 = x2*(math.e**x2)\n",
    "y2 = math.e**x2\n",
    "\n",
    "\n",
    "plt.plot(x2,y1, label='xe^x')\n",
    "plt.plot(x2,y2, label='e^x')\n",
    "\n",
    "plt.grid()\n",
    "plt.legend()\n",
    "\n",
    "ax = plt.gca()\n",
    "ax.set_title('Gráfico de xe^x E e^x')\n",
    "\n",
    "plt.show()"
   ]
  },
  {
   "cell_type": "code",
   "execution_count": 9,
   "metadata": {
    "deletable": false,
    "editable": false,
    "nbgrader": {
     "cell_type": "code",
     "checksum": "e1e52e841198123b0a7e783d9aff9f98",
     "grade": true,
     "grade_id": "cell-90cdc1d79362f65d",
     "locked": true,
     "points": 1,
     "schema_version": 3,
     "solution": false,
     "task": false
    }
   },
   "outputs": [],
   "source": [
    "assert len(ax.lines) == 2\n",
    "assert len(ax.legend().texts) == 2\n",
    "assert ax.title.get_text() != \"\""
   ]
  },
  {
   "cell_type": "markdown",
   "metadata": {},
   "source": [
    "Agora, falta estudar o que acontece quando $x \\to -\\infty$.\n",
    "\n",
    "Faça o gráfico de $f$ e o de $1/x$ para $x \\in [-4, -1]$."
   ]
  },
  {
   "cell_type": "code",
   "execution_count": 10,
   "metadata": {
    "deletable": false,
    "nbgrader": {
     "cell_type": "code",
     "checksum": "a8f0f3fd4d3fbd14a425af6960ff5727",
     "grade": true,
     "grade_id": "cell-0d3b0647ca62048e",
     "locked": false,
     "points": 1,
     "schema_version": 3,
     "solution": true,
     "task": false
    }
   },
   "outputs": [
    {
     "data": {
      "image/png": "[encoded data removed]",
      "text/plain": [
       "<Figure size 432x288 with 1 Axes>"
      ]
     },
     "metadata": {
      "needs_background": "light"
     },
     "output_type": "display_data"
    }
   ],
   "source": [
    "x3 = np.linspace(-4,-1)\n",
    "\n",
    "\n",
    "y3 = x3*(math.e**x3)\n",
    "y4 = 1/x3\n",
    "\n",
    "\n",
    "plt.plot(x3,y3, label='xe^x')\n",
    "plt.plot(x3,y4, label='1/x')\n",
    "\n",
    "plt.grid()\n",
    "plt.legend()\n",
    "\n",
    "ax = plt.gca()\n",
    "ax.set_title('Gráfico de xe^x E 1/x')\n",
    "\n",
    "plt.show()\n",
    "\n"
   ]
  },
  {
   "cell_type": "markdown",
   "metadata": {},
   "source": [
    "Explique porque (usando o gráfico e outras contas, se você julgar necessário),\n",
    "quando $f(x) = y$ tem uma raiz \"muito negativa\",\n",
    "esta raiz é menor (em valor absoluto) do que a raiz de $1/x = y$."
   ]
  },
  {
   "cell_type": "markdown",
   "metadata": {
    "deletable": false,
    "nbgrader": {
     "cell_type": "markdown",
     "checksum": "8b28ec6d4a6deac1e5f2eda36a16c613",
     "grade": true,
     "grade_id": "cell-29ae2d774355df0e",
     "locked": false,
     "points": 2,
     "schema_version": 3,
     "solution": true,
     "task": false
    }
   },
   "source": [
    "Como é possível ver pelo gráfico, f(x) chegará a 0 \"mais rápido\" que 1/x, por isso podemos considerar que esta raiz é menor, em valor absoluto, do que a raiz de 1/x."
   ]
  },
  {
   "cell_type": "markdown",
   "metadata": {},
   "source": [
    "## 2.2: A função inversa propriamente dita\n",
    "\n",
    "Agora, programe a função inversa de $f$ (chamada $g$),\n",
    "que retorne **todas** as soluções de $f(x) = y$ em uma lista.\n",
    "\n",
    "Se não houver raízes, retorne a lista vazia."
   ]
  },
  {
   "cell_type": "code",
   "execution_count": 11,
   "metadata": {
    "deletable": false,
    "nbgrader": {
     "cell_type": "code",
     "checksum": "0bcd1407d93f35562a811a8011057491",
     "grade": false,
     "grade_id": "cell-a187ca48ed58242e",
     "locked": false,
     "schema_version": 3,
     "solution": true,
     "task": false
    },
    "scrolled": true
   },
   "outputs": [],
   "source": [
    "def bisseção(f, a, b , xtol=1e-10, ytol=1e-10, maxiter=100000):\n",
    "    i = 0\n",
    "    while i < maxiter:\n",
    "        i+=1 # Contador\n",
    "        media = (a+b)/2\n",
    "        if (np.isclose(f(media), 0)) or (abs(b-a) < xtol):\n",
    "            return media\n",
    "        if np.sign(f(a)) == np.sign(f(media)):\n",
    "            a = media  \n",
    "        else:\n",
    "            b = media\n",
    "    return media"
   ]
  },
  {
   "cell_type": "code",
   "execution_count": 12,
   "metadata": {
    "deletable": false,
    "nbgrader": {
     "cell_type": "code",
     "checksum": "ff9a5d21b420776145b66333e352887e",
     "grade": false,
     "grade_id": "cell-377500a0b349571b",
     "locked": false,
     "schema_version": 3,
     "solution": true,
     "task": false
    }
   },
   "outputs": [],
   "source": [
    "\n",
    "def f(x):\n",
    "    return x * np.e**x \n",
    "\n",
    "def g(y, xtol=1e-8, ytol=1e-8):\n",
    "    \n",
    " \n",
    "\n",
    "    f = lambda x: x * np.e**x - y\n",
    "    r1 = bisseção(f = f, a = 1/y, b = -1 , xtol= xtol, ytol= ytol, maxiter=10000)\n",
    "    \n",
    "    if y >= math.e:\n",
    "    \n",
    "        r2 = bisseção(f = f, a= -1, b = np.log(abs(y)) + 10  , xtol = xtol, ytol= ytol, maxiter=10000)\n",
    "    else:\n",
    "        r2 = bisseção(f = f, a= -1, b = math.e  , xtol = xtol, ytol= ytol , maxiter=10000)\n",
    "        \n",
    "    print(r1,r2)\n",
    "    print(f(r2))\n",
    "    lista = []\n",
    "    if np.isclose(f(r1) + y ,y):\n",
    "        lista.append(r1)\n",
    "    if np.isclose(f(r2) + y ,y):\n",
    "        lista.append(r2)\n",
    "    print(lista)\n",
    "    return lista "
   ]
  },
  {
   "cell_type": "code",
   "execution_count": 13,
   "metadata": {
    "deletable": false,
    "editable": false,
    "nbgrader": {
     "cell_type": "code",
     "checksum": "0824c7c0a39e8fa22bf419bd11445d3b",
     "grade": true,
     "grade_id": "cell-1469ba8d74314f46",
     "locked": true,
     "points": 1,
     "schema_version": 3,
     "solution": false,
     "task": false
    }
   },
   "outputs": [
    {
     "name": "stdout",
     "output_type": "stream",
     "text": [
      "0.5671432912349701 0.5671432914569395\n",
      "2.8935243090444374e-09\n",
      "[0.5671432912349701, 0.5671432914569395]\n"
     ]
    }
   ],
   "source": [
    "r1 = g(1)[0]\n",
    "assert np.isclose(r1, 0.5671432904097838)\n",
    "assert np.isclose(f(r1), 1)"
   ]
  },
  {
   "cell_type": "code",
   "execution_count": 14,
   "metadata": {
    "deletable": false,
    "editable": false,
    "nbgrader": {
     "cell_type": "code",
     "checksum": "dd966c166eb16454a7e98edc9b1037b7",
     "grade": true,
     "grade_id": "cell-5cd8e074b90655de",
     "locked": true,
     "points": 1,
     "schema_version": 3,
     "solution": false,
     "task": false
    }
   },
   "outputs": [
    {
     "name": "stdout",
     "output_type": "stream",
     "text": [
      "-1.0 2.718281824996125\n",
      "42.19355547958811\n",
      "[]\n"
     ]
    }
   ],
   "source": [
    "assert g(-1) == []"
   ]
  },
  {
   "cell_type": "code",
   "execution_count": 15,
   "metadata": {
    "deletable": false,
    "editable": false,
    "nbgrader": {
     "cell_type": "code",
     "checksum": "1036ff9f308bd4b93490db1b3b6bed2c",
     "grade": true,
     "grade_id": "cell-d061712c94645455",
     "locked": true,
     "points": 1,
     "schema_version": 3,
     "solution": false,
     "task": false
    }
   },
   "outputs": [
    {
     "name": "stdout",
     "output_type": "stream",
     "text": [
      "-3.577151983976364 -0.11183255837328884\n",
      "6.239776612071424e-10\n",
      "[-3.577151983976364, -0.11183255837328884]\n"
     ]
    }
   ],
   "source": [
    "r1, r2 = g(-0.1)\n",
    "assert np.isclose(f(r1), -0.1)\n",
    "assert np.isclose(f(r2), -0.1)\n",
    "assert abs(r1 - r2) > 1"
   ]
  },
  {
   "cell_type": "code",
   "execution_count": 16,
   "metadata": {
    "deletable": false,
    "editable": false,
    "nbgrader": {
     "cell_type": "code",
     "checksum": "f83b75875eb2af776c1290da3fca0d1b",
     "grade": true,
     "grade_id": "cell-b9e913444d2545ae",
     "locked": true,
     "points": 1,
     "schema_version": 3,
     "solution": false,
     "task": false
    }
   },
   "outputs": [
    {
     "name": "stdout",
     "output_type": "stream",
     "text": [
      "-0.9999999962560833 3.92974326893866\n",
      "3.363044243087643e-08\n",
      "[3.92974326893866]\n"
     ]
    }
   ],
   "source": [
    "r1 = g(200)[0]\n",
    "assert np.isclose(f(r1), 200)"
   ]
  },
  {
   "cell_type": "markdown",
   "metadata": {},
   "source": [
    "# Questão 3:  Mudança de Variaveis\n",
    "\n",
    "Vamos modificar um pouco nossa equação $x e^x = y$.\n",
    "\n",
    "Para cada um dos casos, ache as raízes a partir de uma mudança de variáveis para transformar a equação em algo da forma\n",
    "\n",
    "$$ u e^u = t. $$\n",
    "**Escreva sempre qual foi a mudança de variaveis feita**, relacionando $t$ com $y$ e $u$ com $x$.\n",
    "\n",
    "Dica: Ache uma mudança de variáveis \"na mão\" para as funções,\n",
    "utilize o código da questão anterior para descobrir as raízes \"transformadas\" $u$,\n",
    "e depois volte para as variáveis $x$"
   ]
  },
  {
   "cell_type": "markdown",
   "metadata": {},
   "source": [
    "## 3.1: Expoentes diferentes\n",
    "\n",
    "Resolva $x e^{2x} = 7$"
   ]
  },
  {
   "cell_type": "markdown",
   "metadata": {
    "deletable": false,
    "nbgrader": {
     "cell_type": "markdown",
     "checksum": "de8a85aeb59f2ee029f40196c93bd6e7",
     "grade": true,
     "grade_id": "cell-367099a2b6b5b7cf",
     "locked": false,
     "points": 1,
     "schema_version": 3,
     "solution": true,
     "task": false
    }
   },
   "source": [
    "x*(e^2x) - 7\n",
    "\n",
    "Percebemos fazendo a mudança de variáveis com u, que:\n",
    "\n",
    "- u = 2x\n",
    "\n",
    "Agora precisamos encontrar a variável t :\n",
    "\n",
    "u/2 * (e^u) = 7\n",
    "\n",
    "u * (e^u) = 14\n",
    "\n",
    "u * (e^u) = t\n",
    "\n",
    "\n",
    "- t = 14\n",
    "\n",
    "\n",
    "\n"
   ]
  },
  {
   "cell_type": "code",
   "execution_count": 17,
   "metadata": {
    "deletable": false,
    "nbgrader": {
     "cell_type": "code",
     "checksum": "acd393e4b54647c0ee201e3aaf61cf19",
     "grade": false,
     "grade_id": "cell-760f980e26af582f",
     "locked": false,
     "schema_version": 3,
     "solution": true,
     "task": false
    }
   },
   "outputs": [
    {
     "name": "stdout",
     "output_type": "stream",
     "text": [
      "-0.9999999960086176 1.964049110718145\n",
      "-5.3482335005128334e-08\n",
      "[1.964049110718145]\n"
     ]
    }
   ],
   "source": [
    "# Dê a resposta da forma $x = ...$\n",
    "# YOUR CODE HERE\n",
    "\n",
    "t = 14\n",
    "#u = 2x\n",
    "x = g(t)[0]/2"
   ]
  },
  {
   "cell_type": "code",
   "execution_count": 18,
   "metadata": {
    "deletable": false,
    "editable": false,
    "nbgrader": {
     "cell_type": "code",
     "checksum": "593a75ca3cbce4272999de27b213c271",
     "grade": true,
     "grade_id": "cell-6e5e9b4461a76dfa",
     "locked": true,
     "points": 1,
     "schema_version": 3,
     "solution": false,
     "task": false
    }
   },
   "outputs": [],
   "source": [
    "assert np.isclose(x * np.exp(2*x), 7)"
   ]
  },
  {
   "cell_type": "markdown",
   "metadata": {},
   "source": [
    "## 3.2: Parte linear diferente"
   ]
  },
  {
   "cell_type": "markdown",
   "metadata": {},
   "source": [
    "Encontre as duas raízes de $(x  + 1) e^{x} = -\\frac{1}{10}$."
   ]
  },
  {
   "cell_type": "markdown",
   "metadata": {
    "deletable": false,
    "nbgrader": {
     "cell_type": "markdown",
     "checksum": "d0469610b924f5e3f189bdb67aa19e5a",
     "grade": true,
     "grade_id": "cell-098e3c114fe9714e",
     "locked": false,
     "points": 1,
     "schema_version": 3,
     "solution": true,
     "task": false
    }
   },
   "source": [
    "(x+1)*(e^x) = -1/10\n",
    "\n",
    "\n",
    "Percebemos fazendo a mudança de variáveis com u, que:\n",
    "\n",
    "- x = = u - 1\n",
    "\n",
    "Agora precisamos encontrar a variável t :\n",
    "\n",
    "(u)*(e^u-1) = -1/10\n",
    "\n",
    "(u)*(e^u/e^1) = -1/10\n",
    "\n",
    "\n",
    "(u)*(e^u) = -e/10\n",
    "\n",
    "u * (e^u) = t\n",
    "\n",
    "\n",
    "- t = -e/10"
   ]
  },
  {
   "cell_type": "code",
   "execution_count": 19,
   "metadata": {
    "deletable": false,
    "nbgrader": {
     "cell_type": "code",
     "checksum": "65e49dc3375c9e2514fc3cf7b890e655",
     "grade": false,
     "grade_id": "cell-4ec726bcfe9735e6",
     "locked": false,
     "schema_version": 3,
     "solution": true,
     "task": false
    }
   },
   "outputs": [
    {
     "name": "stdout",
     "output_type": "stream",
     "text": [
      "-1.9914461386263098 -0.40931508597432453\n",
      "8.46899655959632e-09\n",
      "[-1.9914461386263098, -0.40931508597432453]\n",
      "-1.9914461386263098 -0.40931508597432453\n",
      "8.46899655959632e-09\n",
      "[-1.9914461386263098, -0.40931508597432453]\n"
     ]
    }
   ],
   "source": [
    "# Dê a resposta da forma $x1, x2 = ...$\n",
    "\n",
    "t = -1*(math.e/10)\n",
    "# u = x + 1\n",
    "\n",
    "x1 = g(t)[0] - 1\n",
    "x2 = g(t)[1] - 1"
   ]
  },
  {
   "cell_type": "code",
   "execution_count": 20,
   "metadata": {
    "deletable": false,
    "editable": false,
    "nbgrader": {
     "cell_type": "code",
     "checksum": "be043b1690666fb4e174be3bafabd354",
     "grade": true,
     "grade_id": "cell-674ff2854bdc9a07",
     "locked": true,
     "points": 1,
     "schema_version": 3,
     "solution": false,
     "task": false
    }
   },
   "outputs": [],
   "source": [
    "assert np.isclose((x1+1)*np.exp(x1), -0.1)\n",
    "assert np.isclose((x2+1)*np.exp(x2), -0.1)\n",
    "assert abs(x1 - x2) > 1"
   ]
  },
  {
   "cell_type": "markdown",
   "metadata": {},
   "source": [
    "## 3.3: Mudança genérica de variáveis\n",
    "\n",
    "Para resolver a equação\n",
    "\n",
    "$$(x + a)e^{bx} = c, \\quad \\text{com $b \\neq 0$},$$\n",
    "\n",
    "podemos fazer uma mudança de variáveis (em função de $a$ e $b$)\n",
    "para transformar em uma equação $u e^u = t$.\n",
    "\n",
    "Explique qual é a mudança a ser feita."
   ]
  },
  {
   "cell_type": "markdown",
   "metadata": {
    "deletable": false,
    "nbgrader": {
     "cell_type": "markdown",
     "checksum": "94cc25498018f1b40e045d98a29c99d4",
     "grade": true,
     "grade_id": "cell-1e305d2548600ae0",
     "locked": false,
     "points": 1,
     "schema_version": 3,
     "solution": true,
     "task": false
    }
   },
   "source": [
    "(x + a)* e^(bx) = c\n",
    "\n",
    "u = b*(x+a)\n",
    "\n",
    "(u/b) * e^(u - b*a) = c\n",
    "\n",
    "u * e^(u - b*a) = (c * b)\n",
    "\n",
    "u * e^u/(e^b*a) = (c * b)\n",
    "\n",
    "u * e^u = (c * b) * (e^b*a)"
   ]
  },
  {
   "cell_type": "markdown",
   "metadata": {},
   "source": [
    "Agora, faça um programa que recebe os parâmetros $a$, $b$ e $c$\n",
    "e retorna uma lista com as soluções.\n",
    "\n",
    "Dica: use uma _list comprehension_  para fazer a transformação inversa."
   ]
  },
  {
   "cell_type": "code",
   "execution_count": 21,
   "metadata": {
    "deletable": false,
    "nbgrader": {
     "cell_type": "code",
     "checksum": "808a299cc3cf3ee5932e74d35138dacb",
     "grade": false,
     "grade_id": "cell-8e6df9766734c337",
     "locked": false,
     "schema_version": 3,
     "solution": true,
     "task": false
    }
   },
   "outputs": [],
   "source": [
    "def solução_geral(a,b,c):\n",
    "    \"\"\"Soluções da equação (x+a)e^{bx} = c\"\"\"\n",
    "    \n",
    "   \n",
    "    print((c * b) * ((math.e)**(b*a)))\n",
    "    assert b != 0 \n",
    "    raizes = g((c * b) * (math.e**(b*a)))\n",
    "    \n",
    "    return [(u/b) - a for u in raizes]\n",
    "    "
   ]
  },
  {
   "cell_type": "markdown",
   "metadata": {},
   "source": [
    "Testes"
   ]
  },
  {
   "cell_type": "code",
   "execution_count": 22,
   "metadata": {},
   "outputs": [],
   "source": [
    "def geral(x, a, b):\n",
    "    return (x+a)*np.exp(b*x)"
   ]
  },
  {
   "cell_type": "code",
   "execution_count": 23,
   "metadata": {
    "deletable": false,
    "editable": false,
    "nbgrader": {
     "cell_type": "code",
     "checksum": "247de6e6cb19ab1e71566071d539245f",
     "grade": true,
     "grade_id": "cell-f63aaea2b1d1d4ed",
     "locked": true,
     "points": 1,
     "schema_version": 3,
     "solution": false,
     "task": false
    }
   },
   "outputs": [
    {
     "name": "stdout",
     "output_type": "stream",
     "text": [
      "2.0\n",
      "-0.9999999972060323 0.852605501511755\n",
      "-2.181438807369318e-09\n",
      "[0.852605501511755]\n"
     ]
    }
   ],
   "source": [
    "r1 = solução_geral(0, 1, 2)[0]\n",
    "assert np.isclose(geral(r1, 0, 1), 2)"
   ]
  },
  {
   "cell_type": "code",
   "execution_count": 24,
   "metadata": {
    "deletable": false,
    "editable": false,
    "nbgrader": {
     "cell_type": "code",
     "checksum": "62a4f676956a8d402c0e17bfb795b9a4",
     "grade": true,
     "grade_id": "cell-54a5b058ab3b235c",
     "locked": true,
     "points": 1,
     "schema_version": 3,
     "solution": false,
     "task": false
    }
   },
   "outputs": [
    {
     "name": "stdout",
     "output_type": "stream",
     "text": [
      "1613.71517397094\n",
      "-0.9999999962724012 5.653941454766958\n",
      "-2.89268473352422e-06\n",
      "[5.653941454766958]\n"
     ]
    }
   ],
   "source": [
    "r1 = solução_geral(3, 2, 2)[0]\n",
    "assert np.isclose(geral(r1, 3, 2), 2)"
   ]
  },
  {
   "cell_type": "code",
   "execution_count": 25,
   "metadata": {
    "deletable": false,
    "editable": false,
    "nbgrader": {
     "cell_type": "code",
     "checksum": "9517f12d518eef27f1ac256cb88f6085",
     "grade": true,
     "grade_id": "cell-e3f86c2c394c66e2",
     "locked": true,
     "points": 1,
     "schema_version": 3,
     "solution": false,
     "task": false
    }
   },
   "outputs": [
    {
     "name": "stdout",
     "output_type": "stream",
     "text": [
      "2.718281828459045\n",
      "-0.999999997452126 1.0000000009313226\n",
      "5.063194308263519e-09\n",
      "[1.0000000009313226]\n"
     ]
    }
   ],
   "source": [
    "r1 = solução_geral(-1, -1, -1)[0]\n",
    "assert np.isclose(r1, 0)"
   ]
  },
  {
   "cell_type": "code",
   "execution_count": 26,
   "metadata": {
    "deletable": false,
    "editable": false,
    "nbgrader": {
     "cell_type": "code",
     "checksum": "3170d3e7508e35c9801036b128dea04c",
     "grade": true,
     "grade_id": "cell-755d90353c7c3dbd",
     "locked": true,
     "points": 2,
     "schema_version": 3,
     "solution": false,
     "task": false
    }
   },
   "outputs": [
    {
     "name": "stdout",
     "output_type": "stream",
     "text": [
      "-0.27299075016572116\n",
      "-1.9828551540462556 -0.4122906482981864\n",
      "8.370373283383969e-10\n",
      "[-1.9828551540462556, -0.4122906482981864]\n"
     ]
    }
   ],
   "source": [
    "r1, r2 = solução_geral(-4, -1, 0.005)\n",
    "assert np.isclose(geral(r1, -4, -1), 0.005)\n",
    "assert np.isclose(geral(r2, -4, -1), 0.005)\n",
    "assert np.abs(r1 - r2) > 1"
   ]
  },
  {
   "cell_type": "markdown",
   "metadata": {},
   "source": [
    "# Questão 4: Uma outra função... (Bônus)"
   ]
  },
  {
   "cell_type": "markdown",
   "metadata": {},
   "source": [
    "Vamos aplicar o mesmo raciocínio das questões anteriores para uma função um pouco diferente. \n",
    "\n",
    "Faça o gráfico da função $h(x) = x - \\log(x)$."
   ]
  },
  {
   "cell_type": "code",
   "execution_count": 27,
   "metadata": {
    "deletable": false,
    "nbgrader": {
     "cell_type": "code",
     "checksum": "6041a4afac3a968758394c8d18fc9371",
     "grade": true,
     "grade_id": "cell-40ba82c82590b4cc",
     "locked": false,
     "points": 0,
     "schema_version": 3,
     "solution": true,
     "task": false
    }
   },
   "outputs": [
    {
     "data": {
      "image/png": "[encoded data removed]",
      "text/plain": [
       "<Figure size 432x288 with 1 Axes>"
      ]
     },
     "metadata": {
      "needs_background": "light"
     },
     "output_type": "display_data"
    }
   ],
   "source": [
    "x = np.linspace(0.1,3,100)\n",
    "\n",
    "y = x - np.log(x)\n",
    "    \n",
    "ax = plt.gca()\n",
    "ax.set(xlabel='Eixo X', ylabel='Eixo Y',\n",
    "       title='Gráfico de x - log(x)')\n",
    "plt.plot(x,y)\n",
    "plt.grid()\n",
    "plt.show()"
   ]
  },
  {
   "cell_type": "markdown",
   "metadata": {},
   "source": [
    "Ao variar o y, o que acontecerá com o número de raízes?\n",
    "Essa função pode ter mais de 2 raizes?"
   ]
  },
  {
   "cell_type": "markdown",
   "metadata": {
    "deletable": false,
    "nbgrader": {
     "cell_type": "markdown",
     "checksum": "a155ceddeb39edf0306d9660383c7139",
     "grade": true,
     "grade_id": "cell-8ae773659416e3c0",
     "locked": false,
     "points": 0,
     "schema_version": 3,
     "solution": true,
     "task": false
    }
   },
   "source": [
    "Fazendo a mesma análise que fizemos em uma questão anterior, podemos perceber que o ponto mínimo da função é o (1,1).\n",
    "\n",
    "Sendo assim, a função com:\n",
    "\n",
    "y < 1: Terá 0 raízes\n",
    "\n",
    "y = 1: Terá 1 raízes\n",
    "\n",
    "y > 1: Terá 2 raízes\n",
    "\n"
   ]
  }
 ],
 "metadata": {
  "kernelspec": {
   "display_name": "Python 3",
   "language": "python",
   "name": "python3"
  },
  "language_info": {
   "codemirror_mode": {
    "name": "ipython",
    "version": 3
   },
   "file_extension": ".py",
   "mimetype": "text/x-python",
   "name": "python",
   "nbconvert_exporter": "python",
   "pygments_lexer": "ipython3",
   "version": "3.8.10"
  }
 },
 "nbformat": 4,
 "nbformat_minor": 4
}
