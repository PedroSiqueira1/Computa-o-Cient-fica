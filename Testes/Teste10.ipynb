{
 "cells": [
  {
   "cell_type": "markdown",
   "metadata": {},
   "source": [
    "![CC-BY-SA](https://mirrors.creativecommons.org/presskit/buttons/88x31/svg/by-sa.svg)\n",
    "\n",
    "\n",
    "This notebook was created by [Bernardo Freitas Paulo da Costa](http://www.im.ufrj.br/bernardofpc),\n",
    "and is licensed under Creative Commons BY-SA."
   ]
  },
  {
   "cell_type": "markdown",
   "metadata": {},
   "source": [
    "Antes de enviar este Teste, verifique que tudo está funcionando como esperado.\n",
    "Por exemplo, **rode o código inteiro, do zero**.\n",
    "Para isso, vá no menu, escolha _Kernel_, depois _Restart & Run All_.\n",
    "\n",
    "Verifique, também, que você respondeu todas as questões:\n",
    "* as questões de código têm `YOUR CODE HERE` (e você pode apagar o `raise NotImplemented` ao incluir sua resposta)\n",
    "* as questões discursivas têm \"YOUR ANSWER HERE\"."
   ]
  },
  {
   "cell_type": "markdown",
   "metadata": {},
   "source": [
    "---"
   ]
  },
  {
   "cell_type": "code",
   "execution_count": 1,
   "metadata": {
    "deletable": false,
    "editable": false,
    "nbgrader": {
     "cell_type": "code",
     "checksum": "bf7c09313bea879e38dc879f2732c044",
     "grade": false,
     "grade_id": "cell-a6bbe291d9334a49",
     "locked": true,
     "schema_version": 3,
     "solution": false,
     "task": false
    }
   },
   "outputs": [],
   "source": [
    "import numpy as np\n",
    "import matplotlib.pyplot as plt\n",
    "\n",
    "from numpy.linalg import norm"
   ]
  },
  {
   "cell_type": "markdown",
   "metadata": {},
   "source": [
    "# Parte 1: Iteração de Rayleigh\n",
    "\n",
    "Vimos que podemos iterar um vetor $v$ pela matriz $A$, obtendo a sequência de vetores $A^nv$, por multiplicações sucessivas, e que isso permite encontrar um autovetor."
   ]
  },
  {
   "cell_type": "markdown",
   "metadata": {},
   "source": [
    "## Questão 1\n",
    "\n",
    "Implemente uma função `itera(A,v,tol,maxiter)` que itera o vetor $v$, normalizando a cada iteração.\n",
    "\n",
    "O método para quando o relativo entre $Av_k$ e $\\lambda_k v_k$ for menor do que `tol`,\n",
    "ou após realizar `maxiter` iterações.\n",
    "\n",
    "A função retorna `(vs, ls)`, respectivamente:\n",
    "- as estimativas do autovetor (com norma 1);\n",
    "- as estimativas correspondentes para o autovalor."
   ]
  },
  {
   "cell_type": "code",
   "execution_count": 2,
   "metadata": {
    "deletable": false,
    "nbgrader": {
     "cell_type": "code",
     "checksum": "1435c4398daab302a2c0c4faefd57a7c",
     "grade": false,
     "grade_id": "cell-257384f421cba661",
     "locked": false,
     "schema_version": 3,
     "solution": true
    }
   },
   "outputs": [],
   "source": [
    "def itera(A,v, tol=1e-6, maxiter=1000):\n",
    "    v = np.asarray(v)\n",
    "    A = np.asarray(A)\n",
    "    n,m = np.shape(A)\n",
    "    ls = []\n",
    "    vs = []\n",
    "    assert n==m, 'A must be square'\n",
    "    v /= norm(v)\n",
    "    for _ in range(maxiter):\n",
    "        v = A@v\n",
    "        v /= norm(v)\n",
    "        vs.append(v)\n",
    "        vec = np.dot(v,A@v)\n",
    "        ls.append(vec)\n",
    "        erro_rel = norm((A@v)/vec - v)\n",
    "        if (erro_rel <= tol):\n",
    "            break\n",
    "    return vs,ls"
   ]
  },
  {
   "cell_type": "code",
   "execution_count": 3,
   "metadata": {
    "deletable": false,
    "editable": false,
    "nbgrader": {
     "cell_type": "code",
     "checksum": "8b7df67a9e78f0a53d9441033a1e39cc",
     "grade": true,
     "grade_id": "cell-80f43e99a64ee409",
     "locked": true,
     "points": 1,
     "schema_version": 3,
     "solution": false
    },
    "scrolled": true
   },
   "outputs": [],
   "source": [
    "# Autovetores conhecidos\n",
    "A = [[1,2],[2,1]]\n",
    "alvo = np.array([1,1])/np.sqrt(2)\n",
    "\n",
    "vs, ls = itera(A,[1.,2])\n",
    "\n",
    "assert(abs(ls[-1] - 3) < 1e-6)\n",
    "assert(all(abs(vs[-1] - alvo) < 1e-6))\n",
    "assert(10 < len(ls) < 20)"
   ]
  },
  {
   "cell_type": "code",
   "execution_count": 4,
   "metadata": {
    "deletable": false,
    "editable": false,
    "nbgrader": {
     "cell_type": "code",
     "checksum": "e16a43cb529a8a14fa223f26bc7a92fc",
     "grade": true,
     "grade_id": "cell-abf4f0438eefa28a",
     "locked": true,
     "points": 1,
     "schema_version": 3,
     "solution": false
    }
   },
   "outputs": [],
   "source": [
    "# Autovetores conhecidos\n",
    "A = [[1,2],[2,1]]\n",
    "alvo = np.array([1,1])/np.sqrt(2)\n",
    "\n",
    "vs, ls = itera(A,[1.,2], tol=1e-12)\n",
    "\n",
    "assert(abs(ls[-1] - 3) < 1e-12)\n",
    "assert(all(abs(vs[-1] - alvo) < 1e-12))\n",
    "assert(20 < len(ls) < 30)"
   ]
  },
  {
   "cell_type": "markdown",
   "metadata": {},
   "source": [
    "## Questão 2: Convergência\n",
    "\n",
    "Vejamos como o algoritmo \"converge\" para o autovetor.\n",
    "Use os vetores intermediários e faça um gráfico da evolução do erro entre os $v$'s produzidos e o autovetor $v_\\lambda$."
   ]
  },
  {
   "cell_type": "code",
   "execution_count": 5,
   "metadata": {
    "deletable": false,
    "nbgrader": {
     "cell_type": "code",
     "checksum": "edf8278367d9d90b9a9bbfc9cd498c25",
     "grade": false,
     "grade_id": "cell-5fbe094e6250b829",
     "locked": false,
     "schema_version": 3,
     "solution": true
    },
    "scrolled": true
   },
   "outputs": [
    {
     "data": {
      "image/png": "[encoded data removed]",
      "text/plain": [
       "<Figure size 432x288 with 1 Axes>"
      ]
     },
     "metadata": {
      "needs_background": "light"
     },
     "output_type": "display_data"
    }
   ],
   "source": [
    "ax = None\n",
    "vs, ls = itera(A, np.random.rand(2), tol=1e-10)\n",
    "vs = np.asarray(vs)\n",
    "ls = np.asarray(ls)\n",
    "alvo = np.array([1,1])/np.sqrt(2)\n",
    "erros = [norm(v -alvo) for v in vs]\n",
    "plt.title('Convergência')\n",
    "plt.semilogy(erros)\n",
    "ax = plt.gca()\n",
    "plt.show()"
   ]
  },
  {
   "cell_type": "code",
   "execution_count": 6,
   "metadata": {
    "deletable": false,
    "editable": false,
    "nbgrader": {
     "cell_type": "code",
     "checksum": "0e96083c93c1576950233527aad2a7e7",
     "grade": true,
     "grade_id": "cell-64ee0faf69476729",
     "locked": true,
     "points": 2,
     "schema_version": 3,
     "solution": false
    },
    "scrolled": true
   },
   "outputs": [],
   "source": [
    "assert ax.title.get_text() != \"\"\n",
    "assert len(ax.lines) == 1\n",
    "\n",
    "ys = ax.lines[0].get_ydata()\n",
    "\n",
    "assert 1e-12 < min(ys) < 1e-10\n",
    "assert np.all(ys[:-1] > ys[1:])"
   ]
  },
  {
   "cell_type": "markdown",
   "metadata": {},
   "source": [
    "O que o último assert quer dizer?"
   ]
  },
  {
   "cell_type": "markdown",
   "metadata": {
    "deletable": false,
    "nbgrader": {
     "cell_type": "markdown",
     "checksum": "2b7418c406ceb48b82b692953030a886",
     "grade": true,
     "grade_id": "cell-8432b1317c5a799a",
     "locked": false,
     "points": 1,
     "schema_version": 3,
     "solution": true
    }
   },
   "source": [
    "Ele quer verificar que o nosso erro é sempre decrescente, ele garante que todo valor do array é menor que seu valor anterior."
   ]
  },
  {
   "cell_type": "markdown",
   "metadata": {},
   "source": [
    "## Questão 3: Convergência comparada\n",
    "\n",
    "Para cada um dos vetores `d1` e `d2` abaixo, considere a matriz $A = \\operatorname{diag}(d_i)$ correspondente."
   ]
  },
  {
   "cell_type": "code",
   "execution_count": 7,
   "metadata": {},
   "outputs": [],
   "source": [
    "d1 = [1,10,20,30,31,32]\n",
    "d2 = [1,10,20,29,30,32]"
   ]
  },
  {
   "cell_type": "markdown",
   "metadata": {},
   "source": [
    "Qual é o autovetor com o maior autovalor para $A_1$ e $A_2$?"
   ]
  },
  {
   "cell_type": "markdown",
   "metadata": {
    "deletable": false,
    "nbgrader": {
     "cell_type": "markdown",
     "checksum": "5a683d9a38d3efafda5d47e87cfaa5e9",
     "grade": true,
     "grade_id": "cell-80ff3d3111fd3705",
     "locked": false,
     "points": 1,
     "schema_version": 3,
     "solution": true
    }
   },
   "source": [
    "Sabemos que para matrizes diagonais, os elementos são os autovalores. Sendo assim, o maior autovalor de $d1$ é 32 e de $d2$ é 32.\n",
    "\n",
    "E assim, o maior autovetor ligado a eles será o [0,0,0,0,0,1]"
   ]
  },
  {
   "cell_type": "markdown",
   "metadata": {},
   "source": [
    "Agora, compare a velocidade de convergência do autovetor usando `itera` para cada uma destas matrizes,\n",
    "fazendo o gráfico do erro entre os vetores gerados para $A_1$ e $A_2$ no mesmo eixo."
   ]
  },
  {
   "cell_type": "code",
   "execution_count": 8,
   "metadata": {
    "deletable": false,
    "nbgrader": {
     "cell_type": "code",
     "checksum": "3ca764e3da7ea8ea429af776a44a8564",
     "grade": false,
     "grade_id": "cell-0ca9beaae72f048a",
     "locked": false,
     "schema_version": 3,
     "solution": true
    }
   },
   "outputs": [
    {
     "data": {
      "image/png": "[encoded data removed]",
      "text/plain": [
       "<Figure size 432x288 with 1 Axes>"
      ]
     },
     "metadata": {
      "needs_background": "light"
     },
     "output_type": "display_data"
    }
   ],
   "source": [
    "ax = None\n",
    "\n",
    "vs_1, _ = itera(np.diag(d1), np.ones(6))\n",
    "vs_2, _ = itera(np.diag(d2), np.ones(6))\n",
    "\n",
    "vs = np.asarray(vs)\n",
    "ls = np.asarray(ls)\n",
    "alvo = [0,0,0,0,0,1]\n",
    "\n",
    "erros1 = [norm(v - alvo) for v in vs_1]\n",
    "erros2 = [norm(v - alvo) for v in vs_2]\n",
    "\n",
    "plt.title('Convergência')\n",
    "plt.semilogy(erros1, label = 'd1')\n",
    "plt.semilogy(erros2, label = 'd2')\n",
    "plt.legend()\n",
    "ax = plt.gca()\n",
    "plt.show()"
   ]
  },
  {
   "cell_type": "code",
   "execution_count": 9,
   "metadata": {
    "deletable": false,
    "editable": false,
    "nbgrader": {
     "cell_type": "code",
     "checksum": "36a34c9984604b071062f50289573f94",
     "grade": true,
     "grade_id": "cell-b5b7998bcab31e94",
     "locked": true,
     "points": 2,
     "schema_version": 3,
     "solution": false
    }
   },
   "outputs": [],
   "source": [
    "assert ax.title.get_text() != \"\"\n",
    "assert len(ax.lines) == 2\n",
    "assert len(ax.legend().texts) == 2"
   ]
  },
  {
   "cell_type": "markdown",
   "metadata": {},
   "source": [
    "Para qual matriz há convergência mais rápida?  Como você explicaria isso?"
   ]
  },
  {
   "cell_type": "markdown",
   "metadata": {
    "deletable": false,
    "nbgrader": {
     "cell_type": "markdown",
     "checksum": "dd2cc33a4dfede5f2ae8a3792c74cced",
     "grade": true,
     "grade_id": "cell-c2652af3d1fa97e1",
     "locked": false,
     "points": 2,
     "schema_version": 3,
     "solution": true
    }
   },
   "source": [
    "Para A2, podemos explicar isso pela distância dos valores de D até o maior autovalor, quanto mais próximos os valores forem do maior autovalor, mais irá demorar pro algoritmo convergir."
   ]
  },
  {
   "cell_type": "markdown",
   "metadata": {},
   "source": [
    "## Questão 4: Convergência?\n",
    "\n",
    "Sejam $\\theta \\in [0,2\\pi]$ e $\\alpha \\in \\mathbb{R}$,\n",
    "e considere a matriz \n",
    "$$A(\\theta, \\alpha) = \\begin{bmatrix} \n",
    "\\cos(\\theta) & \\sin(\\theta) & 0\\\\\n",
    "-\\sin(\\theta) &\\cos(\\theta) &  0\\\\\n",
    "0 & 0 & \\alpha\\\\\n",
    "\\end{bmatrix}.$$\n",
    "\n",
    "Qual a interpretação geométrica dessa matriz?"
   ]
  },
  {
   "cell_type": "markdown",
   "metadata": {
    "deletable": false,
    "nbgrader": {
     "cell_type": "markdown",
     "checksum": "f3e315d21d30817427f1c97a5fa47dfe",
     "grade": true,
     "grade_id": "cell-549ef2ace83f1d22",
     "locked": false,
     "points": 1,
     "schema_version": 3,
     "solution": true
    }
   },
   "source": [
    "Esta é a rotação de matriz em torno do eixo Z por um ângulo teta e z escalado pelo fator alfa\n",
    "."
   ]
  },
  {
   "cell_type": "markdown",
   "metadata": {},
   "source": [
    "Quais são os autovetores de $A$ (em função de $\\theta$ e $\\alpha$)?"
   ]
  },
  {
   "cell_type": "markdown",
   "metadata": {
    "deletable": false,
    "nbgrader": {
     "cell_type": "markdown",
     "checksum": "744ca49d1747aacd228bcc3dccdcc78f",
     "grade": true,
     "grade_id": "cell-c71fb25daa36f1e4",
     "locked": false,
     "points": 2,
     "schema_version": 3,
     "solution": true
    }
   },
   "source": [
    "YOUR ANSWER HERE"
   ]
  },
  {
   "cell_type": "markdown",
   "metadata": {},
   "source": [
    "Implemente a função abaixo que gera a matriz $A$:"
   ]
  },
  {
   "cell_type": "code",
   "execution_count": 26,
   "metadata": {
    "deletable": false,
    "nbgrader": {
     "cell_type": "code",
     "checksum": "f9379dfd544d6f06e823079051714d2c",
     "grade": false,
     "grade_id": "cell-782a31adaac5452f",
     "locked": false,
     "schema_version": 3,
     "solution": true
    },
    "scrolled": false
   },
   "outputs": [],
   "source": [
    "def make_matrix(a,b):\n",
    "    matriz = []\n",
    "    matriz.append([np.cos(a), np.sin(a),0])\n",
    "    matriz.append([-np.sin(a), np.cos(a),0])\n",
    "    matriz.append([0, 0,b])\n",
    "    return matriz"
   ]
  },
  {
   "cell_type": "code",
   "execution_count": 28,
   "metadata": {
    "deletable": false,
    "editable": false,
    "nbgrader": {
     "cell_type": "code",
     "checksum": "81c5c6ee789679ce1eaa1cd9326f3232",
     "grade": true,
     "grade_id": "cell-ec8cf18f333dc2d1",
     "locked": true,
     "points": 1,
     "schema_version": 3,
     "solution": false
    }
   },
   "outputs": [],
   "source": [
    "assert np.allclose(make_matrix(0,1),np.eye(3))\n",
    "assert np.allclose(make_matrix(np.pi,0.5),[[-1,0,0],[0,-1,0],[0,0,0.5]])"
   ]
  },
  {
   "cell_type": "markdown",
   "metadata": {},
   "source": [
    "Fixando $\\theta = \\dfrac{\\pi}{4}$,\n",
    "faça um gráfico do número de iterações necessários para calcular o maior autovetor,\n",
    "em função de $\\alpha \\in [0.5,1.5]$, com precisão `1e-12`."
   ]
  },
  {
   "cell_type": "code",
   "execution_count": 34,
   "metadata": {
    "deletable": false,
    "nbgrader": {
     "cell_type": "code",
     "checksum": "13badfe80d0975193e3b0cffb5ec609d",
     "grade": false,
     "grade_id": "cell-b784f741aca3e042",
     "locked": false,
     "schema_version": 3,
     "solution": true
    }
   },
   "outputs": [
    {
     "data": {
      "image/png": "[encoded data removed]",
      "text/plain": [
       "<Figure size 432x288 with 1 Axes>"
      ]
     },
     "metadata": {
      "needs_background": "light"
     },
     "output_type": "display_data"
    }
   ],
   "source": [
    "alphas = np.linspace(0.5,1.5,100)\n",
    "ax = None\n",
    "\n",
    "iter = []\n",
    "for a in alphas:\n",
    "    matriz = make_matrix(np.pi/4,a) \n",
    "    vs, ls = itera(matriz,np.random.rand(3), tol=1e-12, maxiter=1000)\n",
    "    iter.append(len(vs))\n",
    "plt.plot(alphas,iter)\n",
    "plt.xlabel('Alphas')\n",
    "plt.title('Autovetores')\n",
    "ax = plt.gca()\n",
    "plt.show()"
   ]
  },
  {
   "cell_type": "code",
   "execution_count": 35,
   "metadata": {
    "deletable": false,
    "editable": false,
    "nbgrader": {
     "cell_type": "code",
     "checksum": "e607360e6bae8d898127b9cd2ccbf7ec",
     "grade": true,
     "grade_id": "cell-e13220288c2e5c20",
     "locked": true,
     "points": 2,
     "schema_version": 3,
     "solution": false
    }
   },
   "outputs": [],
   "source": [
    "assert ax.title.get_text() != \"\"\n",
    "assert len(ax.lines) == 1\n",
    "assert ax.get_xlabel() != \"\"\n",
    "\n",
    "ys = ax.lines[0].get_ydata()\n",
    "\n",
    "assert 100 > ys.min() > 60\n",
    "assert ys[55] < 600\n",
    "assert ys[50] > 900"
   ]
  },
  {
   "cell_type": "markdown",
   "metadata": {},
   "source": [
    "Agora, faça o gráfico com a estimativa do autovalor, novamente em função de $\\alpha$."
   ]
  },
  {
   "cell_type": "code",
   "execution_count": 43,
   "metadata": {
    "deletable": false,
    "nbgrader": {
     "cell_type": "code",
     "checksum": "b0eb57c92d6b9a9f64ec5b499c17f61f",
     "grade": false,
     "grade_id": "cell-496cb16ecaa50929",
     "locked": false,
     "schema_version": 3,
     "solution": true
    }
   },
   "outputs": [
    {
     "data": {
      "image/png": "[encoded data removed]",
      "text/plain": [
       "<Figure size 432x288 with 1 Axes>"
      ]
     },
     "metadata": {
      "needs_background": "light"
     },
     "output_type": "display_data"
    }
   ],
   "source": [
    "alphas = np.linspace(0.5,1.5,100)\n",
    "ax = None\n",
    "\n",
    "iter = []\n",
    "for a in alphas:\n",
    "    matriz = make_matrix(np.pi/4,a) \n",
    "    vs, ls = itera(matriz,np.random.rand(3), tol=1e-12, maxiter=1000)\n",
    "    iter.append(ls[-1])\n",
    "plt.plot(alphas,iter)\n",
    "plt.xlabel('Alphas')\n",
    "plt.title('Autovalores')\n",
    "ax = plt.gca()\n",
    "plt.show()"
   ]
  },
  {
   "cell_type": "code",
   "execution_count": 42,
   "metadata": {
    "deletable": false,
    "editable": false,
    "nbgrader": {
     "cell_type": "code",
     "checksum": "96f85ebabc2e6cc13aeb4dd6b41642b6",
     "grade": true,
     "grade_id": "cell-6bc7eba37b6f9533",
     "locked": true,
     "points": 2,
     "schema_version": 3,
     "solution": false
    }
   },
   "outputs": [],
   "source": [
    "assert ax.title.get_text() != \"\"\n",
    "assert len(ax.lines) == 1\n",
    "assert ax.get_xlabel() != \"\"\n",
    "\n",
    "ys = ax.lines[0].get_ydata()\n",
    "\n",
    "assert np.all(0.7 <= ys) and np.all(ys <= 1.5)"
   ]
  },
  {
   "cell_type": "markdown",
   "metadata": {},
   "source": [
    "Como explicar a variação no número de iterações? O que isso tem a ver com o autovalor retornado?"
   ]
  },
  {
   "cell_type": "markdown",
   "metadata": {
    "deletable": false,
    "nbgrader": {
     "cell_type": "markdown",
     "checksum": "c65c06a6c6b5aefd1222f7d57ed3c506",
     "grade": true,
     "grade_id": "cell-d2c0a1630ea2b95b",
     "locked": false,
     "points": 2,
     "schema_version": 3,
     "solution": true
    }
   },
   "source": [
    "Pois quando os alphas for menor que 1, teremos autovalores complexos, que não serão computadores pela tolerância, e o algoritmo irá parar por conta das iterações. Após isso, passamos a lidar com valores reais que são possíveis de serem calculados."
   ]
  },
  {
   "cell_type": "markdown",
   "metadata": {},
   "source": [
    "# Questão 5: Autovalores negativos\n",
    "\n",
    "Em princípio, tudo deveria funcionar de forma muito similar para autovalores **negativos**.\n",
    "\n",
    "Estude o caso $\\alpha \\in [-1.5, -0.5]$, fazendo os dois gráficos lado a lado."
   ]
  },
  {
   "cell_type": "code",
   "execution_count": 47,
   "metadata": {
    "deletable": false,
    "nbgrader": {
     "cell_type": "code",
     "checksum": "9fa426aaaac704edb354db762cf3f10d",
     "grade": false,
     "grade_id": "cell-57f58a930c6eee87",
     "locked": false,
     "schema_version": 3,
     "solution": true,
     "task": false
    }
   },
   "outputs": [
    {
     "data": {
      "image/png": "[encoded data removed]",
      "text/plain": [
       "<Figure size 936x288 with 2 Axes>"
      ]
     },
     "metadata": {
      "needs_background": "light"
     },
     "output_type": "display_data"
    }
   ],
   "source": [
    "fig, (ax1, ax2) = plt.subplots(ncols=2, figsize=(13,4))\n",
    "negalphas = np.linspace(-1.5, -0.5, 100)\n",
    "\n",
    "ax = None\n",
    "\n",
    "iter1 = []\n",
    "iter2 = []\n",
    "for a in negalphas:\n",
    "    matriz = make_matrix(np.pi/4,a) \n",
    "    vs, ls = itera(matriz,np.random.rand(3), tol=1e-12, maxiter=1000)\n",
    "    iter1.append(len(vs))\n",
    "    iter2.append(ls[-1])\n",
    "ax1.plot(negalphas,iter1)\n",
    "ax2.plot(negalphas,iter2)\n",
    "ax1.set_xlabel('Alphas')\n",
    "ax1.set_title('Autovetores')\n",
    "ax2.set_xlabel('Alphas')\n",
    "ax2.title('Autovalores')\n",
    "ax = plt.gca()\n",
    "plt.show()"
   ]
  },
  {
   "cell_type": "code",
   "execution_count": 58,
   "metadata": {},
   "outputs": [
    {
     "data": {
      "text/plain": [
       "100"
      ]
     },
     "execution_count": 58,
     "metadata": {},
     "output_type": "execute_result"
    }
   ],
   "source": [
    "len(ys1)"
   ]
  },
  {
   "cell_type": "code",
   "execution_count": 48,
   "metadata": {
    "deletable": false,
    "editable": false,
    "nbgrader": {
     "cell_type": "code",
     "checksum": "ff5d11660e6f44529946fa3b2527d28f",
     "grade": true,
     "grade_id": "cell-59a7cae1d7d54ba6",
     "locked": true,
     "points": 2,
     "schema_version": 3,
     "solution": false,
     "task": false
    }
   },
   "outputs": [],
   "source": [
    "assert ax1.title.get_text() != \"\"\n",
    "assert len(ax1.lines) == 1\n",
    "assert ax1.get_xlabel() != \"\"\n",
    "\n",
    "ys1 = ax1.lines[0].get_ydata()\n",
    "\n",
    "assert 100 > ys1.min() > 60\n",
    "assert ys1[44] < 600\n",
    "assert ys1[49] > 900\n",
    "\n",
    "\n",
    "assert ax2.title.get_text() != \"\"\n",
    "assert len(ax2.lines) == 1\n",
    "assert ax2.get_xlabel() != \"\"\n",
    "\n",
    "ys2 = ax2.lines[0].get_ydata()\n",
    "\n",
    "assert np.all(0.71 >= ys2)\n",
    "assert np.all(ys2 >= -1.5)"
   ]
  },
  {
   "cell_type": "markdown",
   "metadata": {},
   "source": [
    "Para funcionar, o teste `ys1[i] < 600` teve seu índice foi trocado de `55` para `44`.\n",
    "Explique esta mudança, tanto do ponto de vista matemático,\n",
    "quanto da linguagem Python. "
   ]
  },
  {
   "cell_type": "markdown",
   "metadata": {
    "deletable": false,
    "nbgrader": {
     "cell_type": "markdown",
     "checksum": "9a3ccae261204c58122af5c1582f69f3",
     "grade": true,
     "grade_id": "cell-de42c88dea47bd4a",
     "locked": false,
     "points": 2,
     "schema_version": 3,
     "solution": true,
     "task": false
    }
   },
   "source": [
    "Como agora invertemos o gráfico, e estamos \"andando\" do menor autovetor para o maior, precisamos tambem inverter o caminho que usávamos.\n",
    "\n",
    "Se antes precisávamos de 56 números para ir do maior autovalor até o menor, precisaremos de 45 para ir do menor até o maior.\n",
    "\n",
    "(100 - 56) = 44"
   ]
  },
  {
   "cell_type": "markdown",
   "metadata": {},
   "source": [
    "Explique, também, porque $0.71$ deve ser suficiente como cota superior. (Aqui, é \"só\" matemática, mas a matemática pode ser um pouco mais complexa)"
   ]
  },
  {
   "cell_type": "markdown",
   "metadata": {
    "deletable": false,
    "nbgrader": {
     "cell_type": "markdown",
     "checksum": "b7aab5599d6189084874fbd14c542f55",
     "grade": true,
     "grade_id": "cell-cf2020151488e34a",
     "locked": false,
     "points": 2,
     "schema_version": 3,
     "solution": true,
     "task": false
    }
   },
   "source": [
    "YOUR ANSWER HERE"
   ]
  },
  {
   "cell_type": "markdown",
   "metadata": {},
   "source": [
    "# Questão 6: Mudando $\\theta$\n",
    "\n",
    "A velocidade de convergência muda ao trocar $\\theta$?\n",
    "Teste outros valores, e refaça os gráficos, agora com várias curvas em cada eixo,\n",
    "uma para cada um dos valores de $\\theta$ que você estudou."
   ]
  },
  {
   "cell_type": "code",
   "execution_count": 51,
   "metadata": {
    "deletable": false,
    "nbgrader": {
     "cell_type": "code",
     "checksum": "b777e47e422ea6f37fbe6f2cffee6cab",
     "grade": true,
     "grade_id": "cell-9b0c0c87e0cb96a7",
     "locked": false,
     "points": 3,
     "schema_version": 3,
     "solution": true,
     "task": false
    },
    "scrolled": true
   },
   "outputs": [
    {
     "data": {
      "image/png": "[encoded data removed]",
      "text/plain": [
       "<Figure size 936x288 with 2 Axes>"
      ]
     },
     "metadata": {
      "needs_background": "light"
     },
     "output_type": "display_data"
    }
   ],
   "source": [
    "fig, (ax1, ax2) = plt.subplots(ncols=2, figsize=(13,4))\n",
    "\n",
    "\n",
    "alphas = np.linspace(0.5, 1.5, 100)\n",
    "\n",
    "tethas = np.linspace(0, 2*np.pi, 4)\n",
    "\n",
    "ax = None\n",
    "\n",
    "\n",
    "\n",
    "for tetha in tethas:\n",
    "    iter1 = []\n",
    "    iter2 = []\n",
    "    for a in negalphas:\n",
    "        matriz = make_matrix(tetha,a) \n",
    "        vs, ls = itera(matriz,np.random.rand(3), tol=1e-12, maxiter=1000)\n",
    "        iter1.append(len(vs))\n",
    "        iter2.append(ls[-1])\n",
    "    ax1.plot(negalphas,iter1)\n",
    "    ax2.plot(negalphas,iter2)\n",
    "ax1.set_xlabel('Alphas')\n",
    "ax1.set_title('Autovetores')\n",
    "ax2.set_xlabel('Alphas')\n",
    "ax2.set_title('Autovalores')\n",
    "ax = plt.gca()\n",
    "plt.show()"
   ]
  },
  {
   "cell_type": "markdown",
   "metadata": {},
   "source": [
    "O que você observa?  Isso faz sentido?"
   ]
  },
  {
   "cell_type": "markdown",
   "metadata": {
    "deletable": false,
    "nbgrader": {
     "cell_type": "markdown",
     "checksum": "e416a7981eb6f87d2b0d9968f1ce7d5c",
     "grade": true,
     "grade_id": "cell-f882f904ce506664",
     "locked": false,
     "points": 2,
     "schema_version": 3,
     "solution": true,
     "task": false
    }
   },
   "source": [
    "É possivel obserbar que grande maioria dos valores de tetha seguem o mesmo padrão para os autovetores enquanto diferem para os autovalores.\n",
    "\n",
    "E é possivel perceber que quando theta = pi, os valores tratados serão somente valores reais, pois nas equações que temos números irracionais, a parte imaginaria será igual a 0 por ela estar ligada a sen(theta), e sen(pi) = 0."
   ]
  }
 ],
 "metadata": {
  "kernelspec": {
   "display_name": "Python 3",
   "language": "python",
   "name": "python3"
  },
  "language_info": {
   "codemirror_mode": {
    "name": "ipython",
    "version": 3
   },
   "file_extension": ".py",
   "mimetype": "text/x-python",
   "name": "python",
   "nbconvert_exporter": "python",
   "pygments_lexer": "ipython3",
   "version": "3.8.10"
  }
 },
 "nbformat": 4,
 "nbformat_minor": 2
}
